{
 "cells": [
  {
   "cell_type": "code",
   "execution_count": 184,
   "metadata": {},
   "outputs": [],
   "source": [
    "import numpy as np"
   ]
  },
  {
   "cell_type": "markdown",
   "metadata": {},
   "source": [
    "# TASK 1\n",
    "Implement the encryptor for a simplified AES-like cipher with the parameters given in the previous slides and the following substitution function:\n",
    "    $$f : y_j(j): 2v_i(j) \\mod  p, \\ j$$"
   ]
  },
  {
   "cell_type": "code",
   "execution_count": 185,
   "metadata": {},
   "outputs": [],
   "source": [
    "def subkey_generator_default(key):\n",
    "\n",
    "    k_1 = [key[0],key[2],key[4],key[6]] \n",
    "    k_2 = [key[0],key[1],key[2],key[6]] \n",
    "    k_3 = [key[0],key[3],key[4],key[6]] \n",
    "    k_4 = [key[0],key[3],key[5],key[6]] \n",
    "    k_5 = [key[0],key[2],key[5],key[6]] \n",
    "    k_6 = [key[2],key[4],key[4],key[6]] \n",
    "\n",
    "    return [k_1, k_2, k_3, k_4, k_5, k_6]\n",
    "\n",
    "def subkey_sum(k_i,w,p):\n",
    "\n",
    "    k_inter = k_i+k_i\n",
    "    k = np.array(k_inter)\n",
    "\n",
    "    return (w + k)%p\n",
    "\n"
   ]
  },
  {
   "cell_type": "code",
   "execution_count": 186,
   "metadata": {},
   "outputs": [],
   "source": [
    " \n",
    "def timesTwo(v,p):\n",
    "\n",
    "    return np.multiply(v,2)%p\n",
    "\n",
    "def transposition(y):\n",
    "\n",
    "    return np.array([y[0],y[1],y[2],y[3],y[7],y[6],y[5],y[4]])\n",
    "\n",
    "def linear(z, p):\n",
    "\n",
    "    z_matrix = z.reshape(2,4)\n",
    "\n",
    "    param_matrix = np.matrix([[2,5],[1,7]])\n",
    "\n",
    "    w_matrix = np.dot(param_matrix,z_matrix)%p\n",
    "\n",
    "    w_array = np.asarray(w_matrix).flatten()\n",
    "\n",
    "    return w_array\n",
    "        \n",
    "\n",
    "\n"
   ]
  },
  {
   "cell_type": "code",
   "execution_count": 187,
   "metadata": {},
   "outputs": [],
   "source": [
    "def encryption(u,k,p,round,substitution,transposition,subkey_sum,linear, subkey_generator):\n",
    "\n",
    "    k_list = subkey_generator(k)\n",
    "\n",
    "    for i in range (round):\n",
    "        \n",
    "        #print(\"round : \",i)\n",
    "        v = subkey_sum(k_list[i],u,p)         \n",
    "        #print(\"post subkey_sum\",v)\n",
    "        y = substitution(v,p)\n",
    "        #print(\"post timesTwo\",y)\n",
    "        z = transposition(y)\n",
    "        #print(\"post transpo\",z)\n",
    "        if i == round-1:\n",
    "            x = subkey_sum(k_list[i+1],z,p)\n",
    "            break\n",
    "        u = linear(z, p)\n",
    "        #print(\"post linear\", u)\n",
    "        \n",
    "    return x\n"
   ]
  },
  {
   "cell_type": "code",
   "execution_count": 188,
   "metadata": {},
   "outputs": [
    {
     "name": "stdout",
     "output_type": "stream",
     "text": [
      "[4 0 0 9 7 0 0 3]\n"
     ]
    }
   ],
   "source": [
    "u = np.array([1,0,0,0,0,0,0,0])\n",
    "k = np.array([1,0,0,0,0,0,0,0])\n",
    "p=11\n",
    "r = 5\n",
    "\n",
    "x = encryption(u,k,p,r,\n",
    "               substitution=timesTwo,\n",
    "               transposition=transposition,\n",
    "               subkey_sum=subkey_sum,\n",
    "               linear=linear,\n",
    "               subkey_generator=subkey_generator_default)\n",
    "\n",
    "print(x)\n"
   ]
  },
  {
   "cell_type": "markdown",
   "metadata": {},
   "source": [
    "# TASK 2\n",
    "Implement the decryptor for this simplified AES-like cipher. Note that decryption is performed by the inverse blocks in reverse order. Therefore, you have to implement the inverse of each function used to encrypt the message (subkey sum, substitution, transposition and linear), taking into consideration that all the operations must be done in the field $\\mathbb{F} = GF(p)$."
   ]
  },
  {
   "cell_type": "code",
   "execution_count": 189,
   "metadata": {},
   "outputs": [],
   "source": [
    "def inv_timesTwo(v,p):\n",
    "    mul_inv = pow(2,-1,p)\n",
    "    return np.multiply(v,mul_inv)%p\n",
    "\n",
    "\n",
    "def inv_transposition(y):\n",
    "    return np.array([y[0],y[1],y[2],y[3],y[7],y[6],y[5],y[4]])\n",
    "\n",
    "\n",
    "def inv_subkey_sum(k_i,w,p):\n",
    "\n",
    "    k_inter = k_i+k_i\n",
    "    k = np.array(k_inter) #list\n",
    "\n",
    "    return (w - k)%p\n",
    "\n",
    "\n",
    "def inv_linear(z, p):\n",
    "    z_matrix = z.reshape(2, 4)\n",
    "\n",
    "    param_matrix = np.array([[2, 5], [1, 7]])\n",
    "\n",
    "    #Calcolo dell'inversa della matrice modulo p\n",
    "    det = int(np.round(np.linalg.det(param_matrix)))  #Determinante della matrice\n",
    "    det_inv = pow(det, -1, p)  #Inverso del determinante modulo p\n",
    "    adj_matrix = np.array([[param_matrix[1, 1], -param_matrix[0, 1]],\n",
    "                           [-param_matrix[1, 0], param_matrix[0, 0]]])  #Matrice aggiunta\n",
    "    param_matrix_inv = (det_inv * adj_matrix) % p  #Inversa modulo p\n",
    "\n",
    "    w_matrix = np.dot(param_matrix_inv, z_matrix) % p\n",
    "\n",
    "    w_array = np.asarray(w_matrix, dtype=int).flatten()\n",
    "\n",
    "    return w_array\n",
    "\n",
    "\n",
    "def decryption(x,k,p,round):\n",
    "    k_list = subkey_generator_default(k)\n",
    "\n",
    "    for i in range(round,-1,-1):\n",
    "        print(\"round : \", i)\n",
    "\n",
    "        z = inv_subkey_sum(k_list[i],x,p)            #v = u - k\n",
    "        print(\"post subkey_sum\",z)\n",
    "        \n",
    "        if i == 0:\n",
    "            x = z\n",
    "            break\n",
    "        elif i != round:\n",
    "            w = inv_linear(z, p)\n",
    "            print(\"post linear\", w)\n",
    "        else:\n",
    "            w = z\n",
    "\n",
    "        y = inv_transposition(w)\n",
    "        print(\"post transpo\",y)\n",
    "\n",
    "        x = inv_timesTwo(y,p)\n",
    "        print(\"post timesTwo\",x)\n",
    "        \n",
    "    return x"
   ]
  },
  {
   "cell_type": "markdown",
   "metadata": {},
   "source": [
    "Test for inv_linear"
   ]
  },
  {
   "cell_type": "code",
   "execution_count": 190,
   "metadata": {},
   "outputs": [
    {
     "name": "stdout",
     "output_type": "stream",
     "text": [
      "[ 2  0  2 10  1  0  4  5]\n",
      "[1 0 3 5 0 0 8 0]\n"
     ]
    }
   ],
   "source": [
    "a = linear(np.array([1,0,3,5,0,0,8,0]), p)  #change the array to test\n",
    "print(a)\n",
    "b = inv_linear(a, p)\n",
    "print(b)"
   ]
  },
  {
   "cell_type": "code",
   "execution_count": 191,
   "metadata": {},
   "outputs": [
    {
     "name": "stdout",
     "output_type": "stream",
     "text": [
      "round :  5\n",
      "post subkey_sum [4 0 0 9 7 0 0 3]\n",
      "post transpo [4 0 0 9 3 0 0 7]\n",
      "post timesTwo [ 2  0  0 10  7  0  0  9]\n",
      "round :  4\n",
      "post subkey_sum [ 1  0  0 10  6  0  0  9]\n",
      "post linear [6 0 0 4 0 0 0 7]\n",
      "post transpo [6 0 0 4 7 0 0 0]\n",
      "post timesTwo [3 0 0 2 9 0 0 0]\n",
      "round :  3\n",
      "post subkey_sum [2 0 0 2 8 0 0 0]\n",
      "post linear [2 0 0 4 4 0 0 1]\n",
      "post transpo [2 0 0 4 1 0 0 4]\n",
      "post timesTwo [1 0 0 2 6 0 0 2]\n",
      "round :  2\n",
      "post subkey_sum [0 0 0 2 5 0 0 2]\n",
      "post linear [ 7  0  0  9  6  0  0 10]\n",
      "post transpo [ 7  0  0  9 10  0  0  6]\n",
      "post timesTwo [ 9  0  0 10  5  0  0  3]\n",
      "round :  1\n",
      "post subkey_sum [ 8  0  0 10  4  0  0  3]\n",
      "post linear [4 0 0 0 0 0 0 2]\n",
      "post transpo [4 0 0 0 2 0 0 0]\n",
      "post timesTwo [2 0 0 0 1 0 0 0]\n",
      "round :  0\n",
      "post subkey_sum [1 0 0 0 0 0 0 0]\n",
      "[1 0 0 0 0 0 0 0]\n"
     ]
    }
   ],
   "source": [
    "u = decryption(x,k,p,r)\n",
    "print(u)"
   ]
  },
  {
   "cell_type": "markdown",
   "metadata": {},
   "source": [
    "Other tests for decryption"
   ]
  },
  {
   "cell_type": "code",
   "execution_count": 192,
   "metadata": {},
   "outputs": [
    {
     "name": "stdout",
     "output_type": "stream",
     "text": [
      "[1 0 3 5 0 0 8 0]\n",
      "round :  5\n",
      "post subkey_sum [1 0 3 5 0 0 8 0]\n",
      "post transpo [1 0 3 5 0 8 0 0]\n",
      "post timesTwo [6 0 7 8 0 4 0 0]\n",
      "round :  4\n",
      "post subkey_sum [ 5  0  7  8 10  4  0  0]\n",
      "post linear [ 2 10  3  5  9  7  9  4]\n",
      "post transpo [ 2 10  3  5  4  9  7  9]\n",
      "post timesTwo [ 1  5  7  8  2 10  9 10]\n",
      "round :  3\n",
      "post subkey_sum [ 0  5  7  8  1 10  9 10]\n",
      "post linear [ 8  2  9  8 10  9  0  5]\n",
      "post transpo [ 8  2  9  8  5  0  9 10]\n",
      "post timesTwo [ 4  1 10  4  8  0 10  5]\n",
      "round :  2\n",
      "post subkey_sum [ 3  1 10  4  7  0 10  5]\n",
      "post linear [7 2 1 4 0 6 6 8]\n",
      "post transpo [7 2 1 4 8 6 6 0]\n",
      "post timesTwo [9 1 6 2 4 3 3 0]\n",
      "round :  1\n",
      "post subkey_sum [8 1 6 2 3 3 3 0]\n",
      "post linear [7 4 3 4 1 3 0 1]\n",
      "post transpo [7 4 3 4 1 0 3 1]\n",
      "post timesTwo [9 2 7 2 6 0 7 6]\n",
      "round :  0\n",
      "post subkey_sum [8 2 7 2 5 0 7 6]\n",
      "[8 2 7 2 5 0 7 6]\n"
     ]
    }
   ],
   "source": [
    "a = np.array([1,8,3,6,5,6,7,2]) #change plaintext to test\n",
    "k_test = np.array([1,0,4,0,3,0,2,0]) #change key to test\n",
    "x = encryption(u,k_test,p,r,\n",
    "               substitution=timesTwo,\n",
    "               transposition=transposition,\n",
    "               subkey_sum=subkey_sum,\n",
    "               linear=linear,\n",
    "               subkey_generator=subkey_generator_default)\n",
    "\n",
    "print(b)\n",
    "c = decryption(b,k,p,r)\n",
    "print(c)"
   ]
  },
  {
   "cell_type": "markdown",
   "metadata": {},
   "source": [
    "TASK 3\n",
    "\n",
    "Identify the overall linear relationship for this simplified AES-like cipher, that is find the\n",
    "matrices A ∈ F^(ℓx×ℓk) and B ∈ Fℓx×ℓu such that\n",
    "x = E(k, u) = Ak + Bu mod p\n",
    "with all operations in the field F = GF(p)."
   ]
  },
  {
   "cell_type": "code",
   "execution_count": 193,
   "metadata": {},
   "outputs": [
    {
     "name": "stdout",
     "output_type": "stream",
     "text": [
      "[[ 9  0  1  0  0  0  6  0]\n",
      " [ 0  8  6  1  3  9  0  0]\n",
      " [ 0  6  0  8  3 10  0  0]\n",
      " [ 6  0  0  0  0  0 10  0]\n",
      " [ 2  0  1  0  0  0  3  0]\n",
      " [ 0  1  8  3 10  6  0  0]\n",
      " [ 0 10  0  5  7  6  0  0]\n",
      " [ 3  0  0  0  0  0  3  0]]\n",
      "[[6 0 0 3 3 0 0 0]\n",
      " [0 6 3 0 0 3 0 0]\n",
      " [0 3 6 0 0 0 3 0]\n",
      " [3 0 0 6 0 0 0 3]\n",
      " [5 0 0 0 4 0 0 8]\n",
      " [0 5 0 0 0 4 8 0]\n",
      " [0 0 5 0 0 8 4 0]\n",
      " [0 0 0 5 8 0 0 4]]\n",
      "[4 0 0 9 7 0 0 3]\n"
     ]
    }
   ],
   "source": [
    "\n",
    "e = np.eye(8, dtype=int)\n",
    "k_a = np.zeros(8,int)\n",
    "A = np.empty((8,0),int)\n",
    "\n",
    "x = encryption(u,k,p,r,\n",
    "               substitution=timesTwo,\n",
    "               transposition=transposition,\n",
    "               subkey_sum=subkey_sum,\n",
    "               linear=linear,\n",
    "               subkey_generator=subkey_generator_default)\n",
    "\n",
    "\n",
    "for i in range (8):\n",
    "\n",
    "    encrypted_value = encryption(k_a, np.asarray(e[i]).flatten(), p, r,\n",
    "                                 substitution=timesTwo,\n",
    "                                 transposition=transposition,\n",
    "                                 subkey_sum=subkey_sum,\n",
    "                                 linear=linear,\n",
    "                                 subkey_generator=subkey_generator_default)\n",
    "    \n",
    "    A = np.hstack((A, encrypted_value.reshape(-1, 1)))\n",
    "\n",
    "print(A)\n",
    "\n",
    "\n",
    "\n",
    "k_b = np.eye(8, dtype=int)\n",
    "e = np.zeros(8,int)\n",
    "B = np.empty((8,0),int)\n",
    "\n",
    "for i in range (8):\n",
    "\n",
    "    encrypted_value = encryption(np.asarray(k_b[i]).flatten(),e,p,r,\n",
    "                                 substitution=timesTwo,\n",
    "                                 transposition=transposition,\n",
    "                                 subkey_sum=subkey_sum,\n",
    "                                 linear=linear,\n",
    "                                 subkey_generator=subkey_generator_default)\n",
    "    B = np.hstack((B, encrypted_value.reshape(-1, 1)))\n",
    "\n",
    "\n",
    "print(B)\n",
    "\n",
    "x = (np.dot(A,k) + np.dot(B,u))%p\n",
    "\n",
    "print(x)"
   ]
  },
  {
   "cell_type": "markdown",
   "metadata": {},
   "source": [
    "TASK 5"
   ]
  },
  {
   "cell_type": "code",
   "execution_count": 194,
   "metadata": {},
   "outputs": [],
   "source": [
    "def custom_substitution_number(v):\n",
    "    if(v == 0):\n",
    "        return 0\n",
    "    if(v == 1):\n",
    "        return 2\n",
    "    if(v == 2):\n",
    "        return 4\n",
    "    if(v == 3):\n",
    "        return 8\n",
    "    if(v == 4):\n",
    "        return 6\n",
    "    if(v == 5):\n",
    "        return 10\n",
    "    if(v == 6):\n",
    "        return 1\n",
    "    if(v == 7):\n",
    "        return 3\n",
    "    if(v == 8):\n",
    "        return 5\n",
    "    if(v == 9):\n",
    "        return 7\n",
    "    if(v == 10):\n",
    "        return 9\n",
    "    \n",
    "def custom_substitution(v,p):\n",
    "\n",
    "    for i in range(8):\n",
    "        v[i] = custom_substitution_number(v[i])\n",
    "    \n",
    "    return v\n"
   ]
  },
  {
   "cell_type": "code",
   "execution_count": 195,
   "metadata": {},
   "outputs": [
    {
     "name": "stdout",
     "output_type": "stream",
     "text": [
      "[9 0 0 0 5 0 0 6]\n"
     ]
    }
   ],
   "source": [
    "print(encryption(u,k,p,r,\n",
    "                 substitution=custom_substitution,\n",
    "                 transposition=transposition,\n",
    "                 subkey_sum=subkey_sum,\n",
    "                 linear=linear,\n",
    "                 subkey_generator=subkey_generator_default\n",
    "                 ))"
   ]
  },
  {
   "cell_type": "markdown",
   "metadata": {},
   "source": [
    "Task 7"
   ]
  },
  {
   "cell_type": "code",
   "execution_count": 196,
   "metadata": {},
   "outputs": [],
   "source": [
    "def subkey_generator_task_7(key):\n",
    "\n",
    "    k_1 = [key[0],key[1],key[2],key[3]]\n",
    "    k_2 = [key[0],key[1],key[3],key[2]]\n",
    "    k_3 = [key[1],key[2],key[3],key[0]]\n",
    "    k_4 = [key[0],key[3],key[1],key[2]]\n",
    "    k_5 = [key[2],key[3],key[0],key[1]]\n",
    "    k_6 = [key[1],key[3],key[0],key[2]]\n",
    "\n",
    "    return [k_1,k_2,k_3,k_4,k_5,k_6]\n",
    "\n",
    "def mod_inv(v, p):\n",
    "    \n",
    "    x =[]\n",
    "\n",
    "    for num in v:\n",
    "        if(num != 0):\n",
    "            x.append(2*pow(num, -1, p))\n",
    "        else:\n",
    "            x.append(0)\n",
    "\n",
    "\n",
    "    return np.array(x) # Calcola l'inverso di x modulo p\n",
    "\n",
    "def substitution_task_7(x,p):\n",
    "    x= x.tolist()\n",
    "    return mod_inv(x, p)\n",
    "    "
   ]
  },
  {
   "cell_type": "code",
   "execution_count": 197,
   "metadata": {},
   "outputs": [
    {
     "name": "stdout",
     "output_type": "stream",
     "text": [
      "[5 0 3 2 5 2 1 1]\n"
     ]
    }
   ],
   "source": [
    "u= np.array([1,0,0,0,0,0,0,0])\n",
    "k=np.array([1,0,0,0])\n",
    "\n",
    "p= 11\n",
    "\n",
    "print(encryption(u,k,p,r,\n",
    "                 substitution=substitution_task_7,\n",
    "                 transposition=transposition,\n",
    "                 subkey_sum=subkey_sum,\n",
    "                 linear=linear,\n",
    "                 subkey_generator = subkey_generator_task_7))"
   ]
  }
 ],
 "metadata": {
  "kernelspec": {
   "display_name": "base",
   "language": "python",
   "name": "python3"
  },
  "language_info": {
   "codemirror_mode": {
    "name": "ipython",
    "version": 3
   },
   "file_extension": ".py",
   "mimetype": "text/x-python",
   "name": "python",
   "nbconvert_exporter": "python",
   "pygments_lexer": "ipython3",
   "version": "3.12.3"
  }
 },
 "nbformat": 4,
 "nbformat_minor": 2
}
