{
 "cells": [
  {
   "cell_type": "markdown",
   "metadata": {},
   "source": [
    "TASK #1:\n",
    "Implement the encryptor for a simplified AES-like cipher with the parameters given in the previous slides and the following substitution function:\n",
    "\n",
    "    f : y_j(j): 2v_i(j) mod p, j $$$$"
   ]
  },
  {
   "cell_type": "code",
   "execution_count": 2,
   "metadata": {},
   "outputs": [],
   "source": [
    "import numpy as np"
   ]
  },
  {
   "cell_type": "code",
   "execution_count": 4,
   "metadata": {},
   "outputs": [
    {
     "name": "stdout",
     "output_type": "stream",
     "text": [
      "[3 5 7]\n"
     ]
    }
   ],
   "source": [
    "a=np.array([0,1,2])\n",
    "b=np.array([3,4,5])\n",
    "\n",
    "c = a+b\n",
    "\n",
    "print(c)"
   ]
  },
  {
   "cell_type": "code",
   "execution_count": 3,
   "metadata": {},
   "outputs": [],
   "source": [
    "def subkey_generator(key):\n",
    "\n",
    "    k_1 = [key[0],key[2],key[4],key[6]] \n",
    "    k_2 = [key[0],key[1],key[2],key[6]] \n",
    "    k_3 = [key[0],key[3],key[4],key[6]] \n",
    "    k_4 = [key[0],key[3],key[5],key[6]] \n",
    "    k_5 = [key[0],key[2],key[5],key[6]] \n",
    "    k_6 = [key[2],key[4],key[4],key[6]] \n",
    "\n",
    "    return [k_1, k_2, k_3, k_4, k_5, k_6]\n",
    "\n",
    "def subkey_sum(k_i,w,p):\n",
    "\n",
    "    k_inter = k_i+k_i\n",
    "    k = np.array(k_inter) #list\n",
    "\n",
    "    return (w + k)%p\n",
    "\n"
   ]
  },
  {
   "cell_type": "code",
   "execution_count": 16,
   "metadata": {},
   "outputs": [],
   "source": [
    " \n",
    "def timesTwo(v,p):\n",
    "\n",
    "    return np.multiply(v,2)%p\n",
    "\n",
    "def transposition(y):\n",
    "\n",
    "    return np.array([y[0],y[1],y[2],y[3],y[7],y[6],y[5],y[4]])\n",
    "\n",
    "def linear(z, p):\n",
    "\n",
    "    z_matrix = z.reshape(2,4)\n",
    "\n",
    "    param_matrix = np.matrix([[2,5],[1,7]])\n",
    "\n",
    "    w_matrix = np.dot(param_matrix,z_matrix)%p\n",
    "\n",
    "    w_array = np.asarray(w_matrix).flatten()\n",
    "\n",
    "    #reordered_array = np.array([w_array[0], w_array[2], w_array[4], w_array[6], w_array[1], w_array[3], w_array[5], w_array[7]])\n",
    "\n",
    "    return w_array\n",
    "        \n",
    "\n",
    "\n"
   ]
  },
  {
   "cell_type": "code",
   "execution_count": 27,
   "metadata": {},
   "outputs": [],
   "source": [
    "def encryption(u,k,p,round):\n",
    "\n",
    "    k_list = subkey_generator(k)\n",
    "\n",
    "    for i in range (round):\n",
    "        \n",
    "        print(\"round : \",i)\n",
    "        v = subkey_sum(k_list[i],u,p)            #v = u+k\n",
    "        print(\"post subkey_sum\",v)\n",
    "        y = timesTwo(v,p)\n",
    "        print(\"post timesTwo\",y)\n",
    "        z = transposition(y)\n",
    "        print(\"post transpo\",z)\n",
    "        if i == round-1:\n",
    "            x = subkey_sum(k_list[i+1],z,p)\n",
    "            break\n",
    "        u = linear(z, p)\n",
    "        print(\"post linear\", u)\n",
    "        \n",
    "    return x\n"
   ]
  },
  {
   "cell_type": "code",
   "execution_count": 28,
   "metadata": {},
   "outputs": [
    {
     "name": "stdout",
     "output_type": "stream",
     "text": [
      "round :  0\n",
      "post subkey_sum [2 0 0 0 1 0 0 0]\n",
      "post timesTwo [4 0 0 0 2 0 0 0]\n",
      "post transpo [4 0 0 0 0 0 0 2]\n",
      "post linear [ 8  0  0 10  4  0  0  3]\n",
      "round :  1\n",
      "post subkey_sum [ 9  0  0 10  5  0  0  3]\n",
      "post timesTwo [ 7  0  0  9 10  0  0  6]\n",
      "post transpo [ 7  0  0  9  6  0  0 10]\n",
      "post linear [0 0 0 2 5 0 0 2]\n",
      "round :  2\n",
      "post subkey_sum [1 0 0 2 6 0 0 2]\n",
      "post timesTwo [2 0 0 4 1 0 0 4]\n",
      "post transpo [2 0 0 4 4 0 0 1]\n",
      "post linear [2 0 0 2 8 0 0 0]\n",
      "round :  3\n",
      "post subkey_sum [3 0 0 2 9 0 0 0]\n",
      "post timesTwo [6 0 0 4 7 0 0 0]\n",
      "post transpo [6 0 0 4 0 0 0 7]\n",
      "post linear [ 1  0  0 10  6  0  0  9]\n",
      "round :  4\n",
      "post subkey_sum [ 2  0  0 10  7  0  0  9]\n",
      "post timesTwo [4 0 0 9 3 0 0 7]\n",
      "post transpo [4 0 0 9 7 0 0 3]\n",
      "[4 0 0 9 7 0 0 3]\n"
     ]
    }
   ],
   "source": [
    "u = np.array([1,0,0,0,0,0,0,0])\n",
    "k = np.array([1,0,0,0,0,0,0,0])\n",
    "p=11\n",
    "r = 5\n",
    "\n",
    "print(encryption(u,k,p,r))\n"
   ]
  },
  {
   "cell_type": "code",
   "execution_count": null,
   "metadata": {},
   "outputs": [],
   "source": []
  }
 ],
 "metadata": {
  "kernelspec": {
   "display_name": "base",
   "language": "python",
   "name": "python3"
  },
  "language_info": {
   "codemirror_mode": {
    "name": "ipython",
    "version": 3
   },
   "file_extension": ".py",
   "mimetype": "text/x-python",
   "name": "python",
   "nbconvert_exporter": "python",
   "pygments_lexer": "ipython3",
   "version": "3.12.3"
  }
 },
 "nbformat": 4,
 "nbformat_minor": 2
}
