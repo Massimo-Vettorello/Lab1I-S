{
 "cells": [
  {
   "cell_type": "markdown",
   "metadata": {},
   "source": [
    "# TASK 1\n",
    "Implement the encryptor for a simplified AES-like cipher with the parameters given in the previous slides and the following substitution function:\n",
    "    $$f : y_j(j): 2v_i(j) \\mod  p, \\ j$$"
   ]
  },
  {
   "cell_type": "code",
   "execution_count": 157,
   "metadata": {},
   "outputs": [],
   "source": [
    "import numpy as np"
   ]
  },
  {
   "cell_type": "code",
   "execution_count": 158,
   "metadata": {},
   "outputs": [
    {
     "name": "stdout",
     "output_type": "stream",
     "text": [
      "[3 5 7]\n"
     ]
    }
   ],
   "source": [
    "a=np.array([0,1,2])\n",
    "b=np.array([3,4,5])\n",
    "\n",
    "c = a+b\n",
    "\n",
    "print(c)"
   ]
  },
  {
   "cell_type": "code",
   "execution_count": 159,
   "metadata": {},
   "outputs": [],
   "source": [
    "def subkey_generator(key):\n",
    "\n",
    "    k_1 = [key[0],key[2],key[4],key[6]] \n",
    "    k_2 = [key[0],key[1],key[2],key[6]] \n",
    "    k_3 = [key[0],key[3],key[4],key[6]] \n",
    "    k_4 = [key[0],key[3],key[5],key[6]] \n",
    "    k_5 = [key[0],key[2],key[5],key[6]] \n",
    "    k_6 = [key[2],key[4],key[4],key[6]] \n",
    "\n",
    "    return [k_1, k_2, k_3, k_4, k_5, k_6]\n",
    "\n",
    "def subkey_sum(k_i,w,p):\n",
    "\n",
    "    k_inter = k_i+k_i\n",
    "    k = np.array(k_inter) #list\n",
    "\n",
    "    return (w + k)%p\n",
    "\n"
   ]
  },
  {
   "cell_type": "code",
   "execution_count": 160,
   "metadata": {},
   "outputs": [],
   "source": [
    " \n",
    "def timesTwo(v,p):\n",
    "\n",
    "    return np.multiply(v,2)%p\n",
    "\n",
    "def transposition(y):\n",
    "\n",
    "    return np.array([y[0],y[1],y[2],y[3],y[7],y[6],y[5],y[4]])\n",
    "\n",
    "def linear(z, p):\n",
    "\n",
    "    z_matrix = z.reshape(2,4)\n",
    "\n",
    "    param_matrix = np.matrix([[2,5],[1,7]])\n",
    "\n",
    "    w_matrix = np.dot(param_matrix,z_matrix)%p\n",
    "\n",
    "    w_array = np.asarray(w_matrix).flatten()\n",
    "\n",
    "    #reordered_array = np.array([w_array[0], w_array[2], w_array[4], w_array[6], w_array[1], w_array[3], w_array[5], w_array[7]])\n",
    "\n",
    "    return w_array\n",
    "        \n",
    "\n",
    "\n"
   ]
  },
  {
   "cell_type": "code",
   "execution_count": 161,
   "metadata": {},
   "outputs": [],
   "source": [
    "def encryption(u,k,p,round):\n",
    "\n",
    "    k_list = subkey_generator(k)\n",
    "\n",
    "    for i in range (round):\n",
    "        \n",
    "        print(\"round : \",i)\n",
    "        v = subkey_sum(k_list[i],u,p)            #v = u+k\n",
    "        print(\"post subkey_sum\",v)\n",
    "        y = timesTwo(v,p)\n",
    "        print(\"post timesTwo\",y)\n",
    "        z = transposition(y)\n",
    "        print(\"post transpo\",z)\n",
    "        if i == round-1:\n",
    "            x = subkey_sum(k_list[i+1],z,p)\n",
    "            break\n",
    "        u = linear(z, p)\n",
    "        print(\"post linear\", u)\n",
    "        \n",
    "    return x\n"
   ]
  },
  {
   "cell_type": "code",
   "execution_count": 162,
   "metadata": {},
   "outputs": [
    {
     "name": "stdout",
     "output_type": "stream",
     "text": [
      "round :  0\n",
      "post subkey_sum [2 0 0 0 1 0 0 0]\n",
      "post timesTwo [4 0 0 0 2 0 0 0]\n",
      "post transpo [4 0 0 0 0 0 0 2]\n",
      "post linear [ 8  0  0 10  4  0  0  3]\n",
      "round :  1\n",
      "post subkey_sum [ 9  0  0 10  5  0  0  3]\n",
      "post timesTwo [ 7  0  0  9 10  0  0  6]\n",
      "post transpo [ 7  0  0  9  6  0  0 10]\n",
      "post linear [0 0 0 2 5 0 0 2]\n",
      "round :  2\n",
      "post subkey_sum [1 0 0 2 6 0 0 2]\n",
      "post timesTwo [2 0 0 4 1 0 0 4]\n",
      "post transpo [2 0 0 4 4 0 0 1]\n",
      "post linear [2 0 0 2 8 0 0 0]\n",
      "round :  3\n",
      "post subkey_sum [3 0 0 2 9 0 0 0]\n",
      "post timesTwo [6 0 0 4 7 0 0 0]\n",
      "post transpo [6 0 0 4 0 0 0 7]\n",
      "post linear [ 1  0  0 10  6  0  0  9]\n",
      "round :  4\n",
      "post subkey_sum [ 2  0  0 10  7  0  0  9]\n",
      "post timesTwo [4 0 0 9 3 0 0 7]\n",
      "post transpo [4 0 0 9 7 0 0 3]\n",
      "[4 0 0 9 7 0 0 3]\n"
     ]
    }
   ],
   "source": [
    "u = np.array([1,0,0,0,0,0,0,0])\n",
    "k = np.array([1,0,0,0,0,0,0,0])\n",
    "p = 11\n",
    "r = 5\n",
    "\n",
    "x = encryption(u,k,p,r)\n",
    "print(x)\n"
   ]
  },
  {
   "cell_type": "markdown",
   "metadata": {},
   "source": [
    "# TASK 2\n",
    "Implement the decryptor for this simplified AES-like cipher. Note that decryption is performed by the inverse blocks in reverse order. Therefore, you have to implement the inverse of each function used to encrypt the message (subkey sum, substitution, transposition and linear), taking into consideration that all the operations must be done in the field $\\mathbb{F} = GF(p)$."
   ]
  },
  {
   "cell_type": "code",
   "execution_count": 163,
   "metadata": {},
   "outputs": [],
   "source": [
    "def inv_timesTwo(v,p):\n",
    "    mul_inv = pow(2,-1,p)\n",
    "    return np.multiply(v,mul_inv)%p\n",
    "\n",
    "\n",
    "def inv_transposition(y):\n",
    "    return np.array([y[0],y[1],y[2],y[3],y[7],y[6],y[5],y[4]])\n",
    "\n",
    "\n",
    "def inv_subkey_sum(k_i,w,p):\n",
    "\n",
    "    k_inter = k_i+k_i\n",
    "    k = np.array(k_inter) #list\n",
    "\n",
    "    return (w - k)%p\n",
    "\n",
    "\n",
    "def inv_linear(z, p):\n",
    "    z_matrix = z.reshape(2, 4)\n",
    "\n",
    "    param_matrix = np.array([[2, 5], [1, 7]])\n",
    "\n",
    "    #Calcolo dell'inversa della matrice modulo p\n",
    "    det = int(np.round(np.linalg.det(param_matrix)))  #Determinante della matrice\n",
    "    det_inv = pow(det, -1, p)  #Inverso del determinante modulo p\n",
    "    adj_matrix = np.array([[param_matrix[1, 1], -param_matrix[0, 1]],\n",
    "                           [-param_matrix[1, 0], param_matrix[0, 0]]])  #Matrice aggiunta\n",
    "    param_matrix_inv = (det_inv * adj_matrix) % p  #Inversa modulo p\n",
    "\n",
    "    w_matrix = np.dot(param_matrix_inv, z_matrix) % p\n",
    "\n",
    "    w_array = np.asarray(w_matrix, dtype=int).flatten()\n",
    "\n",
    "    return w_array\n",
    "\n",
    "\n",
    "def decryption(x,k,p,round):\n",
    "    k_list = subkey_generator(k)\n",
    "\n",
    "    for i in range(round,-1,-1):\n",
    "        print(\"round : \", i)\n",
    "\n",
    "        z = inv_subkey_sum(k_list[i],x,p)            #v = u - k\n",
    "        print(\"post subkey_sum\",z)\n",
    "        \n",
    "        if i == 0:\n",
    "            x = z\n",
    "            break\n",
    "        elif i != round:\n",
    "            w = inv_linear(z, p)\n",
    "            print(\"post linear\", w)\n",
    "        else:\n",
    "            w = z\n",
    "\n",
    "        y = inv_transposition(w)\n",
    "        print(\"post transpo\",y)\n",
    "\n",
    "        x = inv_timesTwo(y,p)\n",
    "        print(\"post timesTwo\",x)\n",
    "        \n",
    "    return x"
   ]
  },
  {
   "cell_type": "markdown",
   "metadata": {},
   "source": [
    "Test for inv_linear"
   ]
  },
  {
   "cell_type": "code",
   "execution_count": 164,
   "metadata": {},
   "outputs": [
    {
     "name": "stdout",
     "output_type": "stream",
     "text": [
      "[ 2  0  2 10  1  0  4  5]\n",
      "[1 0 3 5 0 0 8 0]\n"
     ]
    }
   ],
   "source": [
    "a = linear(np.array([1,0,3,5,0,0,8,0]), p)  #change the array to test\n",
    "print(a)\n",
    "b = inv_linear(a, p)\n",
    "print(b)"
   ]
  },
  {
   "cell_type": "code",
   "execution_count": 165,
   "metadata": {},
   "outputs": [
    {
     "name": "stdout",
     "output_type": "stream",
     "text": [
      "round :  5\n",
      "post subkey_sum [4 0 0 9 7 0 0 3]\n",
      "post transpo [4 0 0 9 3 0 0 7]\n",
      "post timesTwo [ 2  0  0 10  7  0  0  9]\n",
      "round :  4\n",
      "post subkey_sum [ 1  0  0 10  6  0  0  9]\n",
      "post linear [6 0 0 4 0 0 0 7]\n",
      "post transpo [6 0 0 4 7 0 0 0]\n",
      "post timesTwo [3 0 0 2 9 0 0 0]\n",
      "round :  3\n",
      "post subkey_sum [2 0 0 2 8 0 0 0]\n",
      "post linear [2 0 0 4 4 0 0 1]\n",
      "post transpo [2 0 0 4 1 0 0 4]\n",
      "post timesTwo [1 0 0 2 6 0 0 2]\n",
      "round :  2\n",
      "post subkey_sum [0 0 0 2 5 0 0 2]\n",
      "post linear [ 7  0  0  9  6  0  0 10]\n",
      "post transpo [ 7  0  0  9 10  0  0  6]\n",
      "post timesTwo [ 9  0  0 10  5  0  0  3]\n",
      "round :  1\n",
      "post subkey_sum [ 8  0  0 10  4  0  0  3]\n",
      "post linear [4 0 0 0 0 0 0 2]\n",
      "post transpo [4 0 0 0 2 0 0 0]\n",
      "post timesTwo [2 0 0 0 1 0 0 0]\n",
      "round :  0\n",
      "post subkey_sum [1 0 0 0 0 0 0 0]\n",
      "[1 0 0 0 0 0 0 0]\n"
     ]
    }
   ],
   "source": [
    "u = decryption(x,k,p,r)\n",
    "print(u)"
   ]
  },
  {
   "cell_type": "markdown",
   "metadata": {},
   "source": [
    "Other tests for decryption"
   ]
  },
  {
   "cell_type": "code",
   "execution_count": 166,
   "metadata": {},
   "outputs": [
    {
     "name": "stdout",
     "output_type": "stream",
     "text": [
      "round :  0\n",
      "post subkey_sum [ 2  1  6  8  6 10 10  4]\n",
      "post timesTwo [4 2 1 5 1 9 9 8]\n",
      "post transpo [4 2 1 5 8 9 9 1]\n",
      "post linear [ 4  5  3  4  5 10  9  1]\n",
      "round :  1\n",
      "post subkey_sum [ 5  5  7  6  6 10  2  3]\n",
      "post timesTwo [10 10  3  1  1  9  4  6]\n",
      "post transpo [10 10  3  1  6  4  9  1]\n",
      "post linear [6 7 7 7 8 5 0 8]\n",
      "round :  2\n",
      "post subkey_sum [ 7  7 10  9  9  5  3 10]\n",
      "post timesTwo [ 3  3  9  7  7 10  6  9]\n",
      "post transpo [ 3  3  9  7  9  6 10  7]\n",
      "post linear [7 3 2 5 0 1 2 1]\n",
      "round :  3\n",
      "post subkey_sum [8 3 2 7 1 1 2 3]\n",
      "post timesTwo [5 6 4 3 2 2 4 6]\n",
      "post transpo [5 6 4 3 6 4 2 2]\n",
      "post linear [ 7 10  7  5  3  1  7  6]\n",
      "round :  4\n",
      "post subkey_sum [8 3 7 7 4 5 7 8]\n",
      "post timesTwo [ 5  6  3  3  8 10  3  5]\n",
      "post transpo [ 5  6  3  3  5  3 10  8]\n",
      "[ 9  9  6  5  9  6  2 10]\n",
      "round :  5\n",
      "post subkey_sum [ 5  6  3  3  5  3 10  8]\n",
      "post transpo [ 5  6  3  3  8 10  3  5]\n",
      "post timesTwo [8 3 7 7 4 5 7 8]\n",
      "round :  4\n",
      "post subkey_sum [ 7 10  7  5  3  1  7  6]\n",
      "post linear [5 6 4 3 6 4 2 2]\n",
      "post transpo [5 6 4 3 2 2 4 6]\n",
      "post timesTwo [8 3 2 7 1 1 2 3]\n",
      "round :  3\n",
      "post subkey_sum [7 3 2 5 0 1 2 1]\n",
      "post linear [ 3  3  9  7  9  6 10  7]\n",
      "post transpo [ 3  3  9  7  7 10  6  9]\n",
      "post timesTwo [ 7  7 10  9  9  5  3 10]\n",
      "round :  2\n",
      "post subkey_sum [6 7 7 7 8 5 0 8]\n",
      "post linear [10 10  3  1  6  4  9  1]\n",
      "post transpo [10 10  3  1  1  9  4  6]\n",
      "post timesTwo [ 5  5  7  6  6 10  2  3]\n",
      "round :  1\n",
      "post subkey_sum [ 4  5  3  4  5 10  9  1]\n",
      "post linear [4 2 1 5 8 9 9 1]\n",
      "post transpo [4 2 1 5 1 9 9 8]\n",
      "post timesTwo [ 2  1  6  8  6 10 10  4]\n",
      "round :  0\n",
      "post subkey_sum [1 8 3 6 5 6 7 2]\n",
      "[1 8 3 6 5 6 7 2]\n"
     ]
    }
   ],
   "source": [
    "a = np.array([1,8,3,6,5,6,7,2]) #change plaintext to test\n",
    "k = np.array([1,0,4,0,3,0,2,0]) #change key to test\n",
    "b = encryption(a,k,p,r)\n",
    "print(b)\n",
    "c = decryption(b,k,p,r)\n",
    "print(c)"
   ]
  }
 ],
 "metadata": {
  "kernelspec": {
   "display_name": "Python 3",
   "language": "python",
   "name": "python3"
  },
  "language_info": {
   "codemirror_mode": {
    "name": "ipython",
    "version": 3
   },
   "file_extension": ".py",
   "mimetype": "text/x-python",
   "name": "python",
   "nbconvert_exporter": "python",
   "pygments_lexer": "ipython3",
   "version": "3.13.2"
  }
 },
 "nbformat": 4,
 "nbformat_minor": 2
}
