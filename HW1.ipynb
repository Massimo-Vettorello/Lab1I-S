{
 "cells": [
  {
   "cell_type": "code",
   "execution_count": 3,
   "metadata": {},
   "outputs": [],
   "source": [
    "import numpy as np"
   ]
  },
  {
   "cell_type": "markdown",
   "metadata": {},
   "source": [
    "## Task 1\n",
    "Implement the encryptor for a simplified AES-like cipher with the parameters given in the previous slides and the following substitution function:\n",
    "    $$f : y_j(j): 2v_i(j) \\mod  p, \\ j$$"
   ]
  },
  {
   "cell_type": "code",
   "execution_count": 4,
   "metadata": {},
   "outputs": [],
   "source": [
    "def subkey_generator(key):\n",
    "\n",
    "    k_1 = [key[0],key[2],key[4],key[6]] \n",
    "    k_2 = [key[0],key[1],key[2],key[6]] \n",
    "    k_3 = [key[0],key[3],key[4],key[6]] \n",
    "    k_4 = [key[0],key[3],key[5],key[6]] \n",
    "    k_5 = [key[0],key[2],key[5],key[6]] \n",
    "    k_6 = [key[2],key[4],key[4],key[6]] \n",
    "\n",
    "    return [k_1, k_2, k_3, k_4, k_5, k_6]\n",
    "\n",
    "def subkey_sum(k_i,w,p):\n",
    "\n",
    "    k_inter = k_i+k_i\n",
    "    k = np.array(k_inter)\n",
    "\n",
    "    return (w + k)%p\n",
    "\n"
   ]
  },
  {
   "cell_type": "code",
   "execution_count": 5,
   "metadata": {},
   "outputs": [],
   "source": [
    " \n",
    "def timesTwo(v,p):\n",
    "\n",
    "    return np.multiply(v,2)%p\n",
    "\n",
    "def transposition(y):\n",
    "\n",
    "    return np.array([y[0],y[1],y[2],y[3],y[7],y[6],y[5],y[4]])\n",
    "\n",
    "def linear(z, p):\n",
    "\n",
    "    z_matrix = z.reshape(2,4)\n",
    "\n",
    "    param_matrix = np.matrix([[2,5],[1,7]])\n",
    "\n",
    "    w_matrix = np.dot(param_matrix,z_matrix)%p\n",
    "\n",
    "    w_array = np.asarray(w_matrix).flatten()\n",
    "\n",
    "    return w_array\n",
    "        \n",
    "\n",
    "\n"
   ]
  },
  {
   "cell_type": "code",
   "execution_count": 6,
   "metadata": {},
   "outputs": [],
   "source": [
    "def encryption(u,k,p,round,substitution,transposition,subkey_sum,linear):\n",
    "\n",
    "    k_list = subkey_generator(k)\n",
    "\n",
    "    for i in range (round):\n",
    "        \n",
    "        #print(\"round : \",i)\n",
    "        v = subkey_sum(k_list[i],u,p)         \n",
    "        #print(\"post subkey_sum\",v)\n",
    "        y = substitution(v,p)\n",
    "        #print(\"post timesTwo\",y)\n",
    "        z = transposition(y)\n",
    "        #print(\"post transpo\",z)\n",
    "        if i == round-1:\n",
    "            x = subkey_sum(k_list[i+1],z,p)\n",
    "            break\n",
    "        u = linear(z, p)\n",
    "        #print(\"post linear\", u)\n",
    "        \n",
    "    return x\n"
   ]
  },
  {
   "cell_type": "code",
   "execution_count": 7,
   "metadata": {},
   "outputs": [
    {
     "name": "stdout",
     "output_type": "stream",
     "text": [
      "[4 0 0 9 7 0 0 3]\n"
     ]
    }
   ],
   "source": [
    "u = np.array([1,0,0,0,0,0,0,0])\n",
    "k = np.array([1,0,0,0,0,0,0,0])\n",
    "p=11\n",
    "r = 5\n",
    "\n",
    "x = encryption(u,k,p,r,\n",
    "               substitution=timesTwo,\n",
    "               transposition=transposition,\n",
    "               subkey_sum=subkey_sum,\n",
    "               linear=linear)\n",
    "\n",
    "print(x)\n"
   ]
  },
  {
   "cell_type": "markdown",
   "metadata": {},
   "source": [
    "## Task 2\n",
    "Implement the decryptor for this simplified AES-like cipher. Note that decryption is performed by the inverse blocks in reverse order. Therefore, you have to implement the inverse of each function used to encrypt the message (subkey sum, substitution, transposition and linear), taking into consideration that all the operations must be done in the field $\\mathbb{F} = GF(p)$."
   ]
  },
  {
   "cell_type": "code",
   "execution_count": 8,
   "metadata": {},
   "outputs": [],
   "source": [
    "def inv_timesTwo(v,p):\n",
    "    mul_inv = pow(2,-1,p)\n",
    "    return np.multiply(v,mul_inv)%p\n",
    "\n",
    "\n",
    "def inv_transposition(y):\n",
    "    return np.array([y[0],y[1],y[2],y[3],y[7],y[6],y[5],y[4]])\n",
    "\n",
    "\n",
    "def inv_subkey_sum(k_i,w,p):\n",
    "\n",
    "    k_inter = k_i+k_i\n",
    "    k = np.array(k_inter) #list\n",
    "\n",
    "    return (w - k)%p\n",
    "\n",
    "#Calcolo dell'inversa della matrice modulo p\n",
    "def inv_matrix(m, p):\n",
    "    # Calcolo del determinante della matrice\n",
    "    det = int(np.round(np.linalg.det(m)))  # Determinante della matrice\n",
    "    det_inv = pow(det, -1, p)  # Inverso del determinante modulo p\n",
    "\n",
    "    # Calcolo della matrice aggiunta (trasposta della matrice dei cofattori)\n",
    "    cofactors = np.zeros_like(m, dtype=int)\n",
    "    n = m.shape[0]\n",
    "    for i in range(n):\n",
    "        for j in range(n):\n",
    "            minor = np.delete(np.delete(m, i, axis=0), j, axis=1)  # Minore\n",
    "            cofactor = ((-1) ** (i + j)) * int(np.round(np.linalg.det(minor)))\n",
    "            cofactors[i, j] = cofactor\n",
    "\n",
    "    adj_matrix = cofactors.T  # Trasposta della matrice dei cofattori\n",
    "\n",
    "    # Calcolo dell'inversa modulo p\n",
    "    m_inv = (det_inv * adj_matrix) % p\n",
    "\n",
    "    return m_inv\n",
    "\n",
    "def inv_linear(z, p):\n",
    "    z_matrix = z.reshape(2, 4)\n",
    "\n",
    "    param_matrix = np.array([[2, 5], [1, 7]])\n",
    "\n",
    "    #Calcolo dell'inversa della matrice modulo p\n",
    "    param_matrix_inv = inv_matrix(param_matrix, p)\n",
    "\n",
    "    w_matrix = np.dot(param_matrix_inv, z_matrix) % p\n",
    "\n",
    "    w_array = np.asarray(w_matrix, dtype=int).flatten()\n",
    "\n",
    "    return w_array\n",
    "\n",
    "\n",
    "def decryption(x,k,p,round):\n",
    "    k_list = subkey_generator(k)\n",
    "\n",
    "    for i in range(round,-1,-1):\n",
    "        print(\"round : \", i)\n",
    "\n",
    "        z = inv_subkey_sum(k_list[i],x,p)            #v = u - k\n",
    "        print(\"post subkey_sum\",z)\n",
    "        \n",
    "        if i == 0:\n",
    "            x = z\n",
    "            break\n",
    "        elif i != round:\n",
    "            w = inv_linear(z, p)\n",
    "            print(\"post linear\", w)\n",
    "        else:\n",
    "            w = z\n",
    "\n",
    "        y = inv_transposition(w)\n",
    "        print(\"post transpo\",y)\n",
    "\n",
    "        x = inv_timesTwo(y,p)\n",
    "        print(\"post timesTwo\",x)\n",
    "        \n",
    "    return x"
   ]
  },
  {
   "cell_type": "markdown",
   "metadata": {},
   "source": [
    "Test for inv_linear"
   ]
  },
  {
   "cell_type": "code",
   "execution_count": 9,
   "metadata": {},
   "outputs": [
    {
     "name": "stdout",
     "output_type": "stream",
     "text": [
      "[0 1 4 6 7 0 9 6]\n",
      "[1 2 3 5 4 6 4 8]\n"
     ]
    }
   ],
   "source": [
    "a = linear(np.array([1,2,3,5,4,6,4,8]), p)  #change the array to test\n",
    "print(a)\n",
    "b = inv_linear(a, p)\n",
    "print(b)"
   ]
  },
  {
   "cell_type": "code",
   "execution_count": 10,
   "metadata": {},
   "outputs": [
    {
     "name": "stdout",
     "output_type": "stream",
     "text": [
      "round :  5\n",
      "post subkey_sum [4 0 0 9 7 0 0 3]\n",
      "post transpo [4 0 0 9 3 0 0 7]\n",
      "post timesTwo [ 2  0  0 10  7  0  0  9]\n",
      "round :  4\n",
      "post subkey_sum [ 1  0  0 10  6  0  0  9]\n",
      "post linear [6 0 0 4 0 0 0 7]\n",
      "post transpo [6 0 0 4 7 0 0 0]\n",
      "post timesTwo [3 0 0 2 9 0 0 0]\n",
      "round :  3\n",
      "post subkey_sum [2 0 0 2 8 0 0 0]\n",
      "post linear [2 0 0 4 4 0 0 1]\n",
      "post transpo [2 0 0 4 1 0 0 4]\n",
      "post timesTwo [1 0 0 2 6 0 0 2]\n",
      "round :  2\n",
      "post subkey_sum [0 0 0 2 5 0 0 2]\n",
      "post linear [ 7  0  0  9  6  0  0 10]\n",
      "post transpo [ 7  0  0  9 10  0  0  6]\n",
      "post timesTwo [ 9  0  0 10  5  0  0  3]\n",
      "round :  1\n",
      "post subkey_sum [ 8  0  0 10  4  0  0  3]\n",
      "post linear [4 0 0 0 0 0 0 2]\n",
      "post transpo [4 0 0 0 2 0 0 0]\n",
      "post timesTwo [2 0 0 0 1 0 0 0]\n",
      "round :  0\n",
      "post subkey_sum [1 0 0 0 0 0 0 0]\n",
      "[1 0 0 0 0 0 0 0]\n"
     ]
    }
   ],
   "source": [
    "u = decryption(x,k,p,r)\n",
    "print(u)"
   ]
  },
  {
   "cell_type": "markdown",
   "metadata": {},
   "source": [
    "Other tests for decryption"
   ]
  },
  {
   "cell_type": "code",
   "execution_count": 11,
   "metadata": {},
   "outputs": [
    {
     "name": "stdout",
     "output_type": "stream",
     "text": [
      "[ 7  9  1  5 10  0 10  1]\n",
      "round :  5\n",
      "post subkey_sum [ 3  6  9  3  6  8  7 10]\n",
      "post transpo [ 3  6  9  3 10  7  8  6]\n",
      "post timesTwo [ 7  3 10  7  5  9  4  3]\n",
      "round :  4\n",
      "post subkey_sum [ 6 10 10  5  4  5  4  1]\n",
      "post linear [ 0  5  8  7 10  0  1  7]\n",
      "post transpo [ 0  5  8  7  7  1  0 10]\n",
      "post timesTwo [0 8 4 9 9 6 0 5]\n",
      "round :  3\n",
      "post subkey_sum [10  8  4  7  8  6  0  3]\n",
      "post linear [7 9 8 5 8 9 2 6]\n",
      "post transpo [7 9 8 5 6 2 9 8]\n",
      "post timesTwo [ 9 10  4  8  3  1 10  4]\n",
      "round :  2\n",
      "post subkey_sum [ 8 10  1  6  2  1  7  2]\n",
      "post linear [10  6  3  6  2  4 10  1]\n",
      "post transpo [10  6  3  6  1 10  4  2]\n",
      "post timesTwo [5 3 7 3 6 5 2 1]\n",
      "round :  1\n",
      "post subkey_sum [ 4  3  3  1  5  5  9 10]\n",
      "post linear [4 2 1 5 8 2 9 7]\n",
      "post transpo [4 2 1 5 7 9 2 8]\n",
      "post timesTwo [ 2  1  6  8  9 10  1  4]\n",
      "round :  0\n",
      "post subkey_sum [1 8 3 6 8 6 9 2]\n",
      "[1 8 3 6 8 6 9 2]\n"
     ]
    }
   ],
   "source": [
    "a = np.array([1,8,3,6,8,6,9,2]) #change plaintext to test\n",
    "b = np.array([1,0,4,0,3,0,2,0]) #change key to test\n",
    "c = encryption(a,b,p,r,\n",
    "               substitution=timesTwo,\n",
    "               transposition=transposition,\n",
    "               subkey_sum=subkey_sum,\n",
    "               linear=linear)\n",
    "\n",
    "print(c)\n",
    "d = decryption(c,b,p,r)\n",
    "print(d)"
   ]
  },
  {
   "cell_type": "markdown",
   "metadata": {},
   "source": [
    "## Task 3\n",
    "Identify the overall linear relationship for this simplified AES-like cipher, that is find the\n",
    "matrices $A ∈ F^{(ℓ_x × ℓ_k)}$ and $B ∈ F^{(ℓ_x × ℓ_u)}$ such that\n",
    "$$x = E(k, u) = Ak + Bu \\mod p$$\n",
    "with all operations in the field $\\mathbb{F} = GF(p)$."
   ]
  },
  {
   "cell_type": "code",
   "execution_count": 12,
   "metadata": {},
   "outputs": [],
   "source": [
    "def linear_relationship():  #pass the encryption function as a parameter\n",
    "    e_a = np.eye(8, dtype=int)\n",
    "    k_a = np.zeros(8, dtype=int)\n",
    "    A = np.empty((8,0), dtype=int)\n",
    "\n",
    "    k_b = np.eye(8, dtype=int)\n",
    "    e_b = np.zeros(8, dtype=int)\n",
    "    B = np.empty((8,0), dtype=int)\n",
    "\n",
    "    for i in range(8):\n",
    "\n",
    "        encrypted_value = encryption(k_a, np.asarray(e_a[i]).flatten(), p, r,\n",
    "                                    substitution=timesTwo,\n",
    "                                    transposition=transposition,\n",
    "                                    subkey_sum=subkey_sum,\n",
    "                                    linear=linear)\n",
    "        \n",
    "        A = np.hstack((A, encrypted_value.reshape(-1, 1)))\n",
    "\n",
    "    #print(A)\n",
    "\n",
    "    for i in range(8):\n",
    "\n",
    "        encrypted_value = encryption(np.asarray(k_b[i]).flatten(),e_b,p,r,\n",
    "                                    substitution=timesTwo,\n",
    "                                    transposition=transposition,\n",
    "                                    subkey_sum=subkey_sum,\n",
    "                                    linear=linear)\n",
    "        B = np.hstack((B, encrypted_value.reshape(-1, 1)))\n",
    "\n",
    "\n",
    "    #print(B)\n",
    "\n",
    "    return A, B"
   ]
  },
  {
   "cell_type": "code",
   "execution_count": 13,
   "metadata": {},
   "outputs": [
    {
     "name": "stdout",
     "output_type": "stream",
     "text": [
      "[ True  True  True  True  True  True  True  True]\n"
     ]
    }
   ],
   "source": [
    "x = encryption(u,k,p,r,\n",
    "               substitution=timesTwo,\n",
    "               transposition=transposition,\n",
    "               subkey_sum=subkey_sum,\n",
    "               linear=linear)\n",
    "\n",
    "A, B = linear_relationship()\n",
    "print(x == (np.dot(A,k) + np.dot(B,u))%p)"
   ]
  },
  {
   "cell_type": "code",
   "execution_count": 14,
   "metadata": {},
   "outputs": [
    {
     "name": "stdout",
     "output_type": "stream",
     "text": [
      "[ True  True  True  True  True  True  True  True]\n"
     ]
    }
   ],
   "source": [
    "a = np.array([1,8,4,6,8,6,5,2]) #change plaintext to test\n",
    "b = np.array([1,6,5,1,3,6,2,0]) #change key to test\n",
    "\n",
    "x = encryption(a,b,p,r,\n",
    "               substitution=timesTwo,\n",
    "               transposition=transposition,\n",
    "               subkey_sum=subkey_sum,\n",
    "               linear=linear)\n",
    "\n",
    "A, B = linear_relationship()\n",
    "\n",
    "print(x == (np.dot(A,b) + np.dot(B,a))%p)"
   ]
  },
  {
   "cell_type": "markdown",
   "metadata": {},
   "source": [
    "## Task 4\n",
    "From a known plaintext/ciphertext pair $(u, x)$, implement a linear cryptanalysis KPA against this cipher by computing \n",
    "$$k = A^{−1}(x − Bu) \\mod p$$ \n",
    "with all operations in the field $\\mathbb{F} = GF(p)$"
   ]
  },
  {
   "cell_type": "code",
   "execution_count": 15,
   "metadata": {},
   "outputs": [],
   "source": [
    "import numpy as np\n",
    "import scipy as sp\n",
    "from itertools import product\n",
    "\n",
    "def null_space_mod_p(A, p):\n",
    "    #Compute the null space basis\n",
    "    null_space_basis = sp.linalg.null_space(A)\n",
    "\n",
    "    #If the null space is empty, return an empty list\n",
    "    if null_space_basis.size == 0:\n",
    "        return []\n",
    "\n",
    "    #Convert the null space basis to integers and reduce modulo p\n",
    "    null_space_basis_mod_p = [(np.round(vec).astype(int) % p) for vec in null_space_basis.T]\n",
    "\n",
    "    #Generate all linear combinations of the basis vectors modulo p\n",
    "    num_basis_vectors = len(null_space_basis_mod_p)\n",
    "    coeff_range = range(p)  # Coefficients from 0 to p-1\n",
    "    all_null_space_elements = []\n",
    "\n",
    "    for coeffs in product(coeff_range, repeat=num_basis_vectors):\n",
    "        element = sum(c * v for c, v in zip(coeffs, null_space_basis_mod_p)) % p\n",
    "        all_null_space_elements.append(element)\n",
    "\n",
    "    return all_null_space_elements\n"
   ]
  },
  {
   "cell_type": "code",
   "execution_count": null,
   "metadata": {},
   "outputs": [],
   "source": [
    "def KPA(A, B, p, u, x):\n",
    "    Bu = np.dot(B,u)%p\n",
    "    b = (-Bu + x) % p\n",
    "\n",
    "    x_p, _, _, _ = sp.linalg.lstsq(A, b)\n",
    "    x_p = np.round(x_p).astype(int) % p\n",
    "    print(x_p)\n",
    "    \n",
    "    # Compute the null space of A modulo p\n",
    "    all_null_space_elements_A = null_space_mod_p(A, p)\n",
    "\n",
    "    for vec in all_null_space_elements_A:\n",
    "        h = (x_p + vec)%p\n",
    "        # Check if h is a valid key\n",
    "        result = (np.dot(A,h) + np.dot(B,u) - x) % p\n",
    "        print(result)\n",
    "        if np.all(result == 0):\n",
    "            print(f\"Found key: {h}\")\n",
    "            break"
   ]
  },
  {
   "cell_type": "code",
   "execution_count": 58,
   "metadata": {},
   "outputs": [
    {
     "name": "stdout",
     "output_type": "stream",
     "text": [
      "11\n",
      "Checking vectors in the null space of A modulo 11 :\n",
      "Vector [0 0 0 0 0 0 0 0] is in the null space of A modulo 11.\n",
      "Vector [0 0 0 0 0 0 0 1] is in the null space of A modulo 11.\n",
      "Vector [0 0 0 0 0 0 0 2] is in the null space of A modulo 11.\n",
      "Vector [0 0 0 0 0 0 0 3] is in the null space of A modulo 11.\n",
      "Vector [0 0 0 0 0 0 0 4] is in the null space of A modulo 11.\n",
      "Vector [0 0 0 0 0 0 0 5] is in the null space of A modulo 11.\n",
      "Vector [0 0 0 0 0 0 0 6] is in the null space of A modulo 11.\n",
      "Vector [0 0 0 0 0 0 0 7] is in the null space of A modulo 11.\n",
      "Vector [0 0 0 0 0 0 0 8] is in the null space of A modulo 11.\n",
      "Vector [0 0 0 0 0 0 0 9] is in the null space of A modulo 11.\n",
      "Vector [ 0  0  0  0  0  0  0 10] is in the null space of A modulo 11.\n",
      "[[ 9  0  1  0  0  0  6  0]\n",
      " [ 0  8  6  1  3  9  0  0]\n",
      " [ 0  6  0  8  3 10  0  0]\n",
      " [ 6  0  0  0  0  0 10  0]\n",
      " [ 2  0  1  0  0  0  3  0]\n",
      " [ 0  1  8  3 10  6  0  0]\n",
      " [ 0 10  0  5  7  6  0  0]\n",
      " [ 3  0  0  0  0  0  3  0]]\n"
     ]
    }
   ],
   "source": [
    "A, B = linear_relationship()\n",
    "x = encryption(u,k,p,r,substitution=timesTwo,\n",
    "               transposition=transposition,\n",
    "               subkey_sum=subkey_sum,\n",
    "               linear=linear)\n",
    "p = 11\n",
    "null_space_A = null_space_mod_p(A, p)\n",
    "\n",
    "print(len(null_space_A))\n",
    "print(\"Checking vectors in the null space of A modulo\", p, \":\")\n",
    "for vec in null_space_A:\n",
    "    # Verify that A * vec ≡ 0 (mod p)\n",
    "    check = (np.dot(A, vec) % p)\n",
    "    if np.all(check == 0):  # Check if all elements are 0 modulo p\n",
    "        print(f\"Vector {vec} is in the null space of A modulo {p}.\")\n",
    "    else:\n",
    "        print(f\"Vector {vec} is NOT in the null space of A modulo {p}.\")\n",
    "\n",
    "print(A)\n"
   ]
  },
  {
   "cell_type": "code",
   "execution_count": 59,
   "metadata": {},
   "outputs": [
    {
     "name": "stdout",
     "output_type": "stream",
     "text": [
      "[1 0 0 0 0 0 0 0]\n",
      "[0 0 0 0 0 0 0 0]\n",
      "Found key: [1 0 0 0 0 0 0 0]\n"
     ]
    }
   ],
   "source": [
    "A, B = linear_relationship()\n",
    "x = encryption(u,k,p,r,substitution=timesTwo,\n",
    "               transposition=transposition,\n",
    "               subkey_sum=subkey_sum,\n",
    "               linear=linear)\n",
    "p = 11\n",
    "\n",
    "KPA(A, B, p, u, x)"
   ]
  },
  {
   "cell_type": "code",
   "execution_count": 60,
   "metadata": {},
   "outputs": [
    {
     "data": {
      "text/plain": [
       "(None, None)"
      ]
     },
     "execution_count": 60,
     "metadata": {},
     "output_type": "execute_result"
    }
   ],
   "source": [
    "A, B = linear_relationship()\n",
    "a = np.array([5,9,9,9,2,5,9,1]) #change plaintext\n",
    "b = np.array([2,10,8,9,10,0,10,7]) #change key\n",
    "c = encryption(a,b,p,r,substitution=timesTwo,\n",
    "               transposition=transposition,\n",
    "               subkey_sum=subkey_sum,\n",
    "               linear=linear)\n",
    "\n",
    "KPA(A,B,p,a,c)"
   ]
  },
  {
   "cell_type": "markdown",
   "metadata": {},
   "source": [
    "## Task 5\n",
    "implement the encryptor for a simplified AES-like cipher with the parameters given in the previous slides and the substitution function described by the following table\n",
    "|$v_i(j)$|0|1|2|3|4|5|6|7|8|9|10|\n",
    "|--------|-|-|-|-|-|-|-|-|-|-|--|\n",
    "|$y_i(j)$|0|2|4|8|6|10|1|3|5|7|9|\n",
    "\n",
    "where $j ∈ \\{1, . . . , ℓ\\}$"
   ]
  },
  {
   "cell_type": "code",
   "execution_count": 30,
   "metadata": {},
   "outputs": [],
   "source": [
    "def custom_substitution_number(v):\n",
    "    if(v == 0):\n",
    "        return 0\n",
    "    if(v == 1):\n",
    "        return 2\n",
    "    if(v == 2):\n",
    "        return 4\n",
    "    if(v == 3):\n",
    "        return 8\n",
    "    if(v == 4):\n",
    "        return 6\n",
    "    if(v == 5):\n",
    "        return 10\n",
    "    if(v == 6):\n",
    "        return 1\n",
    "    if(v == 7):\n",
    "        return 3\n",
    "    if(v == 8):\n",
    "        return 5\n",
    "    if(v == 9):\n",
    "        return 7\n",
    "    if(v == 10):\n",
    "        return 9\n",
    "    \n",
    "def custom_substitution(v,p):\n",
    "\n",
    "    for i in range(8):\n",
    "        v[i] = custom_substitution_number(v[i])\n",
    "    \n",
    "    return v\n",
    "\n",
    "\n",
    "def encryption_v2(u,k,p,round):\n",
    "\n",
    "    k_list = subkey_generator(k)\n",
    "\n",
    "    for i in range (round):\n",
    "        \n",
    "        #print(\"round : \",i)\n",
    "        v = subkey_sum(k_list[i],u,p)\n",
    "        #print(\"post subkey_sum\",v)\n",
    "        y = custom_substitution(v,p)\n",
    "        #print(\"post custom substitution\",y)\n",
    "        z = transposition(y)\n",
    "        #print(\"post transpo\",z)\n",
    "        if i == round-1:\n",
    "            x = subkey_sum(k_list[i+1],z,p)\n",
    "            break\n",
    "        u = linear(z, p)\n",
    "        #print(\"post linear\", u)\n",
    "        \n",
    "    return x\n"
   ]
  },
  {
   "cell_type": "code",
   "execution_count": 31,
   "metadata": {},
   "outputs": [
    {
     "name": "stdout",
     "output_type": "stream",
     "text": [
      "[9 8 0 7 6 2 7 9]\n"
     ]
    }
   ],
   "source": [
    "print(encryption(u,k,p,r,\n",
    "                 substitution=custom_substitution,\n",
    "                 transposition=transposition,\n",
    "                 subkey_sum=subkey_sum,\n",
    "                 linear=linear\n",
    "                 ))"
   ]
  },
  {
   "cell_type": "markdown",
   "metadata": {},
   "source": [
    "## Task 6\n",
    "Linear cryptanalysis of a “nearly linear” cipher"
   ]
  },
  {
   "cell_type": "code",
   "execution_count": null,
   "metadata": {},
   "outputs": [],
   "source": []
  },
  {
   "cell_type": "markdown",
   "metadata": {},
   "source": [
    "## Task 7\n",
    "implement the encryptor for a simplified AES-like cipher with the following parameters: $\\mathcal{K} = \\mathbb{F}^{\\ell_k}, \\ell_k = 4$\n",
    "\n",
    "ECC..."
   ]
  },
  {
   "cell_type": "code",
   "execution_count": 32,
   "metadata": {},
   "outputs": [],
   "source": [
    "def subkey_generator_v2(key):\n",
    "\n",
    "    k_1 = [key[0],key[1],key[2],key[3]]\n",
    "    k_2 = [key[0],key[1],key[3],key[2]]\n",
    "    k_3 = [key[1],key[2],key[3],key[0]]\n",
    "    k_4 = [key[0],key[3],key[1],key[2]]\n",
    "    k_5 = [key[2],key[3],key[0],key[1]]\n",
    "    k_6 = [key[1],key[3],key[0],key[2]]\n",
    "\n",
    "    return [k_1,k_2,k_3,k_4,k_5,k_6]\n",
    "\n",
    "def mod_inv(v, p):\n",
    "    \n",
    "    x =[]\n",
    "\n",
    "    for num in v:\n",
    "        if(num != 0):\n",
    "            x.append(2*pow(num, -1, p))\n",
    "        else:\n",
    "            x.append(0)\n",
    "\n",
    "\n",
    "    return np.array(x) # Calcola l'inverso di x modulo p\n",
    "\n",
    "def substitution(x):\n",
    "    x= x.tolist()\n",
    "    return mod_inv(x, p)\n",
    "    "
   ]
  },
  {
   "cell_type": "code",
   "execution_count": 33,
   "metadata": {},
   "outputs": [],
   "source": [
    "def encryption_v3(u,k,p,round):\n",
    "\n",
    "    k_list = subkey_generator_v2(k)\n",
    "\n",
    "    for i in range (round):\n",
    "        \n",
    "        #print(\"round : \",i)\n",
    "        v = subkey_sum(k_list[i],u,p)\n",
    "        #print(\"post subkey_sum\",v)\n",
    "        y = substitution(v)\n",
    "        #print(\"post custom substitution\",y)\n",
    "        z = transposition(y)\n",
    "        #print(\"post transpo\",z)\n",
    "        if i == round-1:\n",
    "            x = subkey_sum(k_list[i+1],z,p)\n",
    "            break\n",
    "        u = linear(z, p)\n",
    "        #print(\"post linear\", u)\n",
    "        \n",
    "    return x"
   ]
  },
  {
   "cell_type": "code",
   "execution_count": 34,
   "metadata": {},
   "outputs": [
    {
     "name": "stdout",
     "output_type": "stream",
     "text": [
      "[5 0 3 2 5 2 1 1]\n"
     ]
    }
   ],
   "source": [
    "k=np.array([1,0,0,0])\n",
    "\n",
    "p= 11\n",
    "\n",
    "print(encryption_v3(u,k,p,r))"
   ]
  }
 ],
 "metadata": {
  "kernelspec": {
   "display_name": "Python 3",
   "language": "python",
   "name": "python3"
  },
  "language_info": {
   "codemirror_mode": {
    "name": "ipython",
    "version": 3
   },
   "file_extension": ".py",
   "mimetype": "text/x-python",
   "name": "python",
   "nbconvert_exporter": "python",
   "pygments_lexer": "ipython3",
   "version": "3.13.2"
  }
 },
 "nbformat": 4,
 "nbformat_minor": 2
}
