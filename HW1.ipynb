{
 "cells": [
  {
   "cell_type": "code",
   "execution_count": 136,
   "metadata": {},
   "outputs": [],
   "source": [
    "import numpy as np"
   ]
  },
  {
   "cell_type": "markdown",
   "metadata": {},
   "source": [
    "## Task 1\n",
    "Implement the encryptor for a simplified AES-like cipher with the parameters given in the previous slides and the following substitution function:\n",
    "    $$f : y_j(j): 2v_i(j) \\mod  p, \\ j$$"
   ]
  },
  {
   "cell_type": "code",
   "execution_count": 137,
   "metadata": {},
   "outputs": [],
   "source": [
    "def subkey_generator_default(key):\n",
    "\n",
    "    k_1 = [key[0],key[2],key[4],key[6]] \n",
    "    k_2 = [key[0],key[1],key[2],key[3]] \n",
    "    k_3 = [key[0],key[3],key[4],key[7]] \n",
    "    k_4 = [key[0],key[3],key[5],key[6]] \n",
    "    k_5 = [key[0],key[2],key[5],key[7]] \n",
    "    k_6 = [key[2],key[3],key[4],key[5]] \n",
    "\n",
    "    return [k_1, k_2, k_3, k_4, k_5, k_6]\n",
    "\n",
    "def subkey_sum(k_i,w,p):\n",
    "\n",
    "    k_inter = k_i+k_i\n",
    "    k = np.array(k_inter)\n",
    "\n",
    "    return (w + k)%p"
   ]
  },
  {
   "cell_type": "code",
   "execution_count": 138,
   "metadata": {},
   "outputs": [],
   "source": [
    " \n",
    "def timesTwo(v,p):\n",
    "\n",
    "    return np.multiply(v,2)%p\n",
    "\n",
    "def transposition(y):\n",
    "\n",
    "    return np.array([y[0],y[1],y[2],y[3],y[7],y[6],y[5],y[4]])\n",
    "\n",
    "def linear(z, p):\n",
    "\n",
    "    z_matrix = z.reshape(2,4)\n",
    "\n",
    "    param_matrix = np.matrix([[2,5],[1,7]])\n",
    "    \n",
    "    w_matrix = np.dot(param_matrix,z_matrix)%p\n",
    "\n",
    "    w_array = np.asarray(w_matrix).flatten()\n",
    "    return w_array\n",
    "        \n",
    "\n",
    "\n"
   ]
  },
  {
   "cell_type": "code",
   "execution_count": 139,
   "metadata": {},
   "outputs": [],
   "source": [
    "def encryption(u,k,p,round,substitution,transposition,subkey_sum,linear, subkey_generator):\n",
    "\n",
    "    k_list = subkey_generator(k)\n",
    "\n",
    "    for i in range (round):\n",
    "        \n",
    "        #print(\"round : \",i)\n",
    "        v = subkey_sum(k_list[i],u,p)         \n",
    "        #print(\"post subkey_sum\",v)\n",
    "        y = substitution(v,p)\n",
    "        #print(\"post timesTwo\",y)\n",
    "        z = transposition(y)\n",
    "        #print(\"post transpo\",z)\n",
    "        if i == round-1:\n",
    "            x = subkey_sum(k_list[i+1],z,p)\n",
    "            break\n",
    "        u = linear(z, p)\n",
    "        #print(\"post linear\", u)\n",
    "        \n",
    "    return x\n"
   ]
  },
  {
   "cell_type": "code",
   "execution_count": 140,
   "metadata": {},
   "outputs": [
    {
     "name": "stdout",
     "output_type": "stream",
     "text": [
      "[4 0 0 9 7 0 0 3]\n"
     ]
    }
   ],
   "source": [
    "u = np.array([1,0,0,0,0,0,0,0])\n",
    "k = np.array([1,0,0,0,0,0,0,0])\n",
    "p=11\n",
    "r = 5\n",
    "\n",
    "x = encryption(u,k,p,r,\n",
    "               substitution=timesTwo,\n",
    "               transposition=transposition,\n",
    "               subkey_sum=subkey_sum,\n",
    "               linear=linear,\n",
    "               subkey_generator=subkey_generator_default)\n",
    "\n",
    "print(x)\n"
   ]
  },
  {
   "cell_type": "markdown",
   "metadata": {},
   "source": [
    "## Task 2\n",
    "Implement the decryptor for this simplified AES-like cipher. Note that decryption is performed by the inverse blocks in reverse order. Therefore, you have to implement the inverse of each function used to encrypt the message (subkey sum, substitution, transposition and linear), taking into consideration that all the operations must be done in the field $\\mathbb{F} = GF(p)$."
   ]
  },
  {
   "cell_type": "code",
   "execution_count": 141,
   "metadata": {},
   "outputs": [],
   "source": [
    "def inv_timesTwo(v,p):\n",
    "    mul_inv = pow(2,-1,p)\n",
    "    return np.multiply(v,mul_inv)%p\n",
    "\n",
    "\n",
    "def inv_transposition(y):\n",
    "    return np.array([y[0],y[1],y[2],y[3],y[7],y[6],y[5],y[4]])\n",
    "\n",
    "\n",
    "def inv_subkey_sum(k_i,w,p):\n",
    "\n",
    "    k_inter = k_i+k_i\n",
    "    k = np.array(k_inter) #list\n",
    "\n",
    "    return (w - k)%p\n",
    "\n",
    "#Calcolo dell'inversa della matrice modulo p\n",
    "def inv_matrix(m, p):\n",
    "    det = round(np.linalg.det(m))\n",
    "    m_ast = np.linalg.inv(m)\n",
    "\n",
    "    m_tilda = m_ast*det\n",
    "\n",
    "    det_inv = pow(det, -1, p)\n",
    "\n",
    "    m_inv = np.round(m_tilda * det_inv).astype(int) % p\n",
    "\n",
    "    return m_inv\n",
    "\n",
    "def inv_linear(z, p):\n",
    "    z_matrix = z.reshape(2, 4)\n",
    "\n",
    "    param_matrix = np.array([[2, 5], [1, 7]])\n",
    "\n",
    "    #Calcolo dell'inversa della matrice modulo p\n",
    "    param_matrix_inv = inv_matrix(param_matrix, p)\n",
    "\n",
    "    w_matrix = np.dot(param_matrix_inv, z_matrix) % p\n",
    "\n",
    "    w_array = np.asarray(w_matrix, dtype=int).flatten()\n",
    "\n",
    "    return w_array\n",
    "\n",
    "\n",
    "def decryption(x,k,p,round, inv_substitution, inv_transposition, inv_subkey_sum, inv_linear, subkey_generator):\n",
    "    k_list = subkey_generator(k)\n",
    "\n",
    "    for i in range(round,-1,-1):\n",
    "        #print(\"round : \", i)\n",
    "        z = inv_subkey_sum(k_list[i],x,p)            #v = u - k\n",
    "        #print(\"post subkey_sum\",z)\n",
    "        if i == 0:\n",
    "            x = z\n",
    "            break\n",
    "        elif i != round:\n",
    "            w = inv_linear(z, p)\n",
    "            #print(\"post linear\", w)\n",
    "        else:\n",
    "            w = z\n",
    "        y = inv_transposition(w)\n",
    "        #print(\"post transpo\",y)\n",
    "        x = inv_substitution(y,p)\n",
    "        #print(\"post timesTwo\",x)\n",
    "        \n",
    "    return x"
   ]
  },
  {
   "cell_type": "markdown",
   "metadata": {},
   "source": [
    "Test for inv_linear"
   ]
  },
  {
   "cell_type": "code",
   "execution_count": 142,
   "metadata": {},
   "outputs": [
    {
     "name": "stdout",
     "output_type": "stream",
     "text": [
      "[0 1 4 6 7 0 9 6]\n",
      "[1 2 3 5 4 6 4 8]\n"
     ]
    }
   ],
   "source": [
    "a = linear(np.array([1,2,3,5,4,6,4,8]), p)  #change the array to test\n",
    "print(a)\n",
    "b = inv_linear(a, p)\n",
    "print(b)"
   ]
  },
  {
   "cell_type": "code",
   "execution_count": 143,
   "metadata": {},
   "outputs": [
    {
     "name": "stdout",
     "output_type": "stream",
     "text": [
      "[1 0 0 0 0 0 0 0]\n"
     ]
    }
   ],
   "source": [
    "u = np.array([1,0,0,0,0,0,0,0])\n",
    "x = encryption(u,k,p,r,\n",
    "               substitution=timesTwo,\n",
    "               transposition=transposition,\n",
    "               subkey_sum=subkey_sum,\n",
    "               linear=linear,\n",
    "               subkey_generator=subkey_generator_default)\n",
    "                \n",
    "u = decryption(x,k,p,r, \n",
    "               inv_substitution=inv_timesTwo,\n",
    "               inv_transposition=inv_transposition,\n",
    "               inv_subkey_sum=inv_subkey_sum,\n",
    "               inv_linear=inv_linear,\n",
    "               subkey_generator=subkey_generator_default)\n",
    "print(u)"
   ]
  },
  {
   "cell_type": "markdown",
   "metadata": {},
   "source": [
    "Other tests for decryption"
   ]
  },
  {
   "cell_type": "code",
   "execution_count": 144,
   "metadata": {},
   "outputs": [
    {
     "name": "stdout",
     "output_type": "stream",
     "text": [
      "[ 8  6  1 10  4  8 10  2]\n",
      "[ 1  8  3  6  8  6  9 10]\n"
     ]
    }
   ],
   "source": [
    "a = np.array([1,8,3,6,8,6,9,10]) #change plaintext to test\n",
    "b = np.array([1,0,4,0,3,0,2,0]) #change key to test\n",
    "c = encryption(a,b,p,r,\n",
    "               substitution=timesTwo,\n",
    "               transposition=transposition,\n",
    "               subkey_sum=subkey_sum,\n",
    "               linear=linear,\n",
    "               subkey_generator=subkey_generator_default)\n",
    "\n",
    "print(c)\n",
    "d = decryption(c,b,p,r, \n",
    "               inv_substitution=inv_timesTwo,\n",
    "               inv_transposition=inv_transposition,\n",
    "               inv_subkey_sum=inv_subkey_sum,\n",
    "               inv_linear=inv_linear,\n",
    "               subkey_generator=subkey_generator_default)\n",
    "print(d)"
   ]
  },
  {
   "cell_type": "markdown",
   "metadata": {},
   "source": [
    "## Task 3\n",
    "Identify the overall linear relationship for this simplified AES-like cipher, that is find the\n",
    "matrices $A ∈ F^{(ℓ_x × ℓ_k)}$ and $B ∈ F^{(ℓ_x × ℓ_u)}$ such that\n",
    "$$x = E(k, u) = Ak + Bu \\mod p$$\n",
    "with all operations in the field $\\mathbb{F} = GF(p)$."
   ]
  },
  {
   "cell_type": "code",
   "execution_count": 159,
   "metadata": {},
   "outputs": [],
   "source": [
    "def linear_relationship(substitution = timesTwo, p = 11, r = 5):  #pass the encryption function as a parameter\n",
    "    k_a = np.eye(8, dtype=int)\n",
    "    e_a = np.zeros(8, dtype=int)\n",
    "    A = np.empty((8,0), dtype=int)\n",
    "\n",
    "    e_b = np.eye(8, dtype=int)\n",
    "    k_b = np.zeros(8, dtype=int)\n",
    "    B = np.empty((8,0), dtype=int)\n",
    "\n",
    "    #k = e_j, u = 0\n",
    "    for i in range(8):\n",
    "\n",
    "        encrypted_value = encryption(e_a, np.asarray(k_a[i]), p, r,\n",
    "                                    substitution=substitution,\n",
    "                                    transposition=transposition,\n",
    "                                    subkey_sum=subkey_sum,\n",
    "                                    linear=linear,\n",
    "                                    subkey_generator=subkey_generator_default)\n",
    "        A = np.hstack((A, encrypted_value.reshape(-1, 1)))\n",
    "        #print(encrypted_value)\n",
    "        #print(k_a[i])\n",
    "    #print(A)\n",
    "\n",
    "    for i in range(8):\n",
    "\n",
    "        encrypted_value = encryption(np.asarray(e_b[i]),k_b,p,r,\n",
    "                                    substitution=substitution,\n",
    "                                    transposition=transposition,\n",
    "                                    subkey_sum=subkey_sum,\n",
    "                                    linear=linear,\n",
    "                                    subkey_generator=subkey_generator_default)\n",
    "        B = np.hstack((B, encrypted_value.reshape(-1, 1)))\n",
    "\n",
    "\n",
    "    #print(B)\n",
    "\n",
    "    return A, B"
   ]
  },
  {
   "cell_type": "code",
   "execution_count": 146,
   "metadata": {},
   "outputs": [
    {
     "name": "stdout",
     "output_type": "stream",
     "text": [
      "[4 0 0 9 7 0 0 3]\n",
      "True\n"
     ]
    }
   ],
   "source": [
    "u = np.array([1,0,0,0,0,0,0,0])\n",
    "k = np.array([1,0,0,0,0,0,0,0])\n",
    "\n",
    "x = encryption(u,k,p,r,\n",
    "               substitution=timesTwo,\n",
    "               transposition=transposition,\n",
    "               subkey_sum=subkey_sum,\n",
    "               linear=linear,\n",
    "               subkey_generator=subkey_generator_default)\n",
    "\n",
    "A, B = linear_relationship()\n",
    "\n",
    "#print(A)\n",
    "#print(B)\n",
    "print((np.dot(A,k) + np.dot(B,u))%p)\n",
    "print(np.all(x == (np.dot(A,k) + np.dot(B,u))%p))"
   ]
  },
  {
   "cell_type": "code",
   "execution_count": 147,
   "metadata": {},
   "outputs": [
    {
     "name": "stdout",
     "output_type": "stream",
     "text": [
      "[[ 9  0  1  6  0  0  1 10]\n",
      " [ 0  8  6  2  2  9  0  0]\n",
      " [ 0  6  0  8  3 10  0  0]\n",
      " [ 6  0  0  8  0  1  6  6]\n",
      " [ 2  0  1 10  0  0  1  3]\n",
      " [ 0  1  8  4  9  6  0  0]\n",
      " [ 0 10  0  5  7  6  0  0]\n",
      " [ 3  0  0  1  0  1  4  8]]\n",
      "[[6 0 0 3 3 0 0 0]\n",
      " [0 6 3 0 0 3 0 0]\n",
      " [0 3 6 0 0 0 3 0]\n",
      " [3 0 0 6 0 0 0 3]\n",
      " [5 0 0 0 4 0 0 8]\n",
      " [0 5 0 0 0 4 8 0]\n",
      " [0 0 5 0 0 8 4 0]\n",
      " [0 0 0 5 8 0 0 4]]\n",
      "[6 1 7 0 8 9 5 6]\n",
      "[6 1 7 0 8 9 5 6]\n",
      "[ True  True  True  True  True  True  True  True]\n"
     ]
    }
   ],
   "source": [
    "u_1 = np.array([1,2,0,4,0,0,4,0]) #change plaintext to test\n",
    "k_1 = np.array([0,0,0,0,0,0,0,1]) #change key to test\n",
    "\n",
    "x = encryption(u_1,k_1,p,r,\n",
    "               substitution=timesTwo,\n",
    "               transposition=transposition,\n",
    "               subkey_sum=subkey_sum,\n",
    "               linear=linear,\n",
    "               subkey_generator=subkey_generator_default)\n",
    "\n",
    "A, B = linear_relationship()\n",
    "\n",
    "print(A)\n",
    "print(B)\n",
    "\n",
    "print(x)\n",
    "print((np.dot(A,k_1) + np.dot(B,u_1))%p)\n",
    "\n",
    "print(x == (np.dot(A,k_1) + np.dot(B,u_1))%p)"
   ]
  },
  {
   "cell_type": "markdown",
   "metadata": {},
   "source": [
    "## Task 4\n",
    "From a known plaintext/ciphertext pair $(u, x)$, implement a linear cryptanalysis KPA against this cipher by computing \n",
    "$$k = A^{−1}(x − Bu) \\mod p$$ \n",
    "with all operations in the field $\\mathbb{F} = GF(p)$"
   ]
  },
  {
   "cell_type": "code",
   "execution_count": 148,
   "metadata": {},
   "outputs": [],
   "source": [
    "def linear_KPA(A,B,u,x):\n",
    "    A_inv = inv_matrix(A, p)\n",
    "    k = np.dot(A_inv, (x - np.dot(B,u))) % p\n",
    "    return k"
   ]
  },
  {
   "cell_type": "code",
   "execution_count": 149,
   "metadata": {},
   "outputs": [
    {
     "name": "stdout",
     "output_type": "stream",
     "text": [
      "[8 6 2 4 8 1 4 7]\n",
      "[1 0 0 3 0 0 5 7]\n"
     ]
    }
   ],
   "source": [
    "A,B = linear_relationship()\n",
    "u = np.array([1,0,0,7,0,0,0,0]) #change plaintext to test\n",
    "k = np.array([1,0,0,3,0,0,5,7]) #change key to test\n",
    "x = encryption(u,k,p,r,\n",
    "               substitution=timesTwo,\n",
    "               transposition=transposition,\n",
    "               subkey_sum=subkey_sum,\n",
    "               linear = linear,\n",
    "               subkey_generator=subkey_generator_default)\n",
    "\n",
    "print(x)\n",
    "key = linear_KPA(A,B,u,x)\n",
    "\n",
    "print(key)\n"
   ]
  },
  {
   "cell_type": "code",
   "execution_count": 150,
   "metadata": {},
   "outputs": [
    {
     "name": "stdout",
     "output_type": "stream",
     "text": [
      "[5 9 9 9 2 5 9 1] [ 2 10  8  9 10  0 10  7]\n",
      "[9 9 2 0 5 9 5 4] [8 1 9 9 0 6 2 9]\n",
      "[5 1 1 9 6 2 9 0] [3 6 2 6 7 3 1 2]\n",
      "[5 7 3 4 5 9 8 0] [7 3 7 9 3 9 8 2]\n",
      "[3 4 9 4 2 6 5 9] [8 5 3 8 9 2 2 3]\n",
      "**SUCCESS: All k are the same**\n",
      "[ 9  1  4  3 10  6  2  1]\n"
     ]
    }
   ],
   "source": [
    "import ast\n",
    "A, B = linear_relationship()\n",
    "with open('KPAdataQ/KPApairsQ_linear.txt', 'r') as file_in:\n",
    "    with open('KPAdataQ/KPAkeysQ_linear.txt', 'w') as file_out:\n",
    "        first = True\n",
    "        correct = True\n",
    "        for line in file_in:\n",
    "            u_str, x_str = line.split('\\t')\n",
    "            u = np.array(ast.literal_eval(u_str.strip()))\n",
    "            x = np.array(ast.literal_eval(x_str.strip()))\n",
    "            print(u, x)\n",
    "            k = linear_KPA(A, B, u, x)\n",
    "            if first:\n",
    "                k_first = k\n",
    "                first = False\n",
    "            elif not np.array_equal(k, k_first):\n",
    "                print(\"**ERROR: Different k**\")\n",
    "                correct = False\n",
    "                break\n",
    "        if correct:\n",
    "            print(\"**SUCCESS: All k are the same**\")\n",
    "            print(k)\n",
    "            file_out.write(str(k.tolist()) + '\\n')"
   ]
  },
  {
   "cell_type": "markdown",
   "metadata": {},
   "source": [
    "## Task 5\n",
    "implement the encryptor for a simplified AES-like cipher with the parameters given in the previous slides and the substitution function described by the following table\n",
    "|$v_i(j)$|0|1|2|3|4|5|6|7|8|9|10|\n",
    "|--------|-|-|-|-|-|-|-|-|-|-|--|\n",
    "|$y_i(j)$|0|2|4|8|6|10|1|3|5|7|9|\n",
    "\n",
    "where $j ∈ \\{1, . . . , ℓ\\}$"
   ]
  },
  {
   "cell_type": "code",
   "execution_count": 151,
   "metadata": {},
   "outputs": [],
   "source": [
    "def custom_substitution_number(v):\n",
    "    if(v == 0):\n",
    "        return 0\n",
    "    if(v == 1):\n",
    "        return 2\n",
    "    if(v == 2):\n",
    "        return 4\n",
    "    if(v == 3):\n",
    "        return 8\n",
    "    if(v == 4):\n",
    "        return 6\n",
    "    if(v == 5):\n",
    "        return 10\n",
    "    if(v == 6):\n",
    "        return 1\n",
    "    if(v == 7):\n",
    "        return 3\n",
    "    if(v == 8):\n",
    "        return 5\n",
    "    if(v == 9):\n",
    "        return 7\n",
    "    if(v == 10):\n",
    "        return 9\n",
    "    \n",
    "def custom_substitution(v,p):\n",
    "\n",
    "    for i in range(8):\n",
    "        v[i] = custom_substitution_number(v[i])\n",
    "    \n",
    "    return v\n"
   ]
  },
  {
   "cell_type": "code",
   "execution_count": 152,
   "metadata": {},
   "outputs": [
    {
     "name": "stdout",
     "output_type": "stream",
     "text": [
      "[9 0 0 0 5 0 0 6]\n"
     ]
    }
   ],
   "source": [
    "u = np.array([1,0,0,0,0,0,0,0])\n",
    "k = np.array([1,0,0,0,0,0,0,0])\n",
    "p=11\n",
    "r = 5\n",
    "\n",
    "print(encryption(u,k,p,r,\n",
    "                 substitution=custom_substitution,\n",
    "                 transposition=transposition,\n",
    "                 subkey_sum=subkey_sum,\n",
    "                 linear=linear,\n",
    "                 subkey_generator=subkey_generator_default\n",
    "                 ))"
   ]
  },
  {
   "cell_type": "markdown",
   "metadata": {},
   "source": [
    "## Task 6\n",
    "Linear cryptanalysis of a “nearly linear” cipher"
   ]
  },
  {
   "cell_type": "code",
   "execution_count": 155,
   "metadata": {},
   "outputs": [],
   "source": [
    "def approx_linear_substitution(x, a, b, p):\n",
    "    a_inv = pow(a, -1, p)\n",
    "    alpha = (-a_inv * b) % p\n",
    "    return (alpha * x) % p\n"
   ]
  },
  {
   "cell_type": "code",
   "execution_count": 170,
   "metadata": {},
   "outputs": [
    {
     "name": "stdout",
     "output_type": "stream",
     "text": [
      "(1, 9, 0.7272727272727273)\n",
      "(2, 7, 0.7272727272727273)\n",
      "(3, 5, 0.7272727272727273)\n",
      "(4, 3, 0.7272727272727273)\n",
      "(5, 1, 0.7272727272727273)\n",
      "(6, 10, 0.7272727272727273)\n",
      "(7, 8, 0.7272727272727273)\n",
      "(8, 6, 0.7272727272727273)\n",
      "(9, 4, 0.7272727272727273)\n",
      "(10, 2, 0.7272727272727273)\n",
      "(1, 1, 0.09090909090909091)\n",
      "(1, 4, 0.09090909090909091)\n",
      "(2, 2, 0.09090909090909091)\n",
      "(2, 8, 0.09090909090909091)\n",
      "(3, 1, 0.09090909090909091)\n",
      "(3, 3, 0.09090909090909091)\n",
      "(4, 4, 0.09090909090909091)\n",
      "(4, 5, 0.09090909090909091)\n",
      "(5, 5, 0.09090909090909091)\n",
      "(5, 9, 0.09090909090909091)\n",
      "(6, 2, 0.09090909090909091)\n",
      "(6, 6, 0.09090909090909091)\n",
      "(7, 6, 0.09090909090909091)\n",
      "(7, 7, 0.09090909090909091)\n",
      "(8, 8, 0.09090909090909091)\n",
      "(8, 10, 0.09090909090909091)\n",
      "(9, 3, 0.09090909090909091)\n",
      "(9, 9, 0.09090909090909091)\n",
      "(10, 7, 0.09090909090909091)\n",
      "(10, 10, 0.09090909090909091)\n",
      "(1, 2, 0.0)\n",
      "(1, 3, 0.0)\n",
      "(1, 5, 0.0)\n",
      "(1, 6, 0.0)\n",
      "(1, 7, 0.0)\n",
      "(1, 8, 0.0)\n",
      "(1, 10, 0.0)\n",
      "(2, 1, 0.0)\n",
      "(2, 3, 0.0)\n",
      "(2, 4, 0.0)\n",
      "(2, 5, 0.0)\n",
      "(2, 6, 0.0)\n",
      "(2, 9, 0.0)\n",
      "(2, 10, 0.0)\n",
      "(3, 2, 0.0)\n",
      "(3, 4, 0.0)\n",
      "(3, 6, 0.0)\n",
      "(3, 7, 0.0)\n",
      "(3, 8, 0.0)\n",
      "(3, 9, 0.0)\n",
      "(3, 10, 0.0)\n",
      "(4, 1, 0.0)\n",
      "(4, 2, 0.0)\n",
      "(4, 6, 0.0)\n",
      "(4, 7, 0.0)\n",
      "(4, 8, 0.0)\n",
      "(4, 9, 0.0)\n",
      "(4, 10, 0.0)\n",
      "(5, 2, 0.0)\n",
      "(5, 3, 0.0)\n",
      "(5, 4, 0.0)\n",
      "(5, 6, 0.0)\n",
      "(5, 7, 0.0)\n",
      "(5, 8, 0.0)\n",
      "(5, 10, 0.0)\n",
      "(6, 1, 0.0)\n",
      "(6, 3, 0.0)\n",
      "(6, 4, 0.0)\n",
      "(6, 5, 0.0)\n",
      "(6, 7, 0.0)\n",
      "(6, 8, 0.0)\n",
      "(6, 9, 0.0)\n",
      "(7, 1, 0.0)\n",
      "(7, 2, 0.0)\n",
      "(7, 3, 0.0)\n",
      "(7, 4, 0.0)\n",
      "(7, 5, 0.0)\n",
      "(7, 9, 0.0)\n",
      "(7, 10, 0.0)\n",
      "(8, 1, 0.0)\n",
      "(8, 2, 0.0)\n",
      "(8, 3, 0.0)\n",
      "(8, 4, 0.0)\n",
      "(8, 5, 0.0)\n",
      "(8, 7, 0.0)\n",
      "(8, 9, 0.0)\n",
      "(9, 1, 0.0)\n",
      "(9, 2, 0.0)\n",
      "(9, 5, 0.0)\n",
      "(9, 6, 0.0)\n",
      "(9, 7, 0.0)\n",
      "(9, 8, 0.0)\n",
      "(9, 10, 0.0)\n",
      "(10, 1, 0.0)\n",
      "(10, 3, 0.0)\n",
      "(10, 4, 0.0)\n",
      "(10, 5, 0.0)\n",
      "(10, 6, 0.0)\n",
      "(10, 8, 0.0)\n",
      "(10, 9, 0.0)\n"
     ]
    }
   ],
   "source": [
    "p = 11\n",
    "rel = []\n",
    "for a in range(1, p):\n",
    "    for b in range(1, p):\n",
    "        count = 0\n",
    "        for v in range(p):\n",
    "            real = custom_substitution_number(v)\n",
    "            approx = approx_linear_substitution(v, a, b, p)\n",
    "            \n",
    "            if real == approx:\n",
    "                count += 1\n",
    "        prob = count / p\n",
    "        delta = abs(prob - 1/p)\n",
    "        rel.append((a, b, delta))\n",
    "rel.sort(key=lambda x: x[2], reverse=True)\n",
    "\n",
    "for r in rel:\n",
    "    print(r)\n"
   ]
  },
  {
   "cell_type": "code",
   "execution_count": 171,
   "metadata": {},
   "outputs": [],
   "source": [
    "def approx_sub(x,p):\n",
    "    a = 1\n",
    "    b = 9\n",
    "    a_inv = pow(a, -1, p)\n",
    "    alpha = (-a_inv * b) % p\n",
    "    return (alpha * x) % p"
   ]
  },
  {
   "cell_type": "code",
   "execution_count": null,
   "metadata": {},
   "outputs": [
    {
     "name": "stdout",
     "output_type": "stream",
     "text": [
      "[[ 9  0  1  6  0  0  1 10]\n",
      " [ 0  8  6  2  2  9  0  0]\n",
      " [ 0  6  0  8  3 10  0  0]\n",
      " [ 6  0  0  8  0  1  6  6]\n",
      " [ 2  0  1 10  0  0  1  3]\n",
      " [ 0  1  8  4  9  6  0  0]\n",
      " [ 0 10  0  5  7  6  0  0]\n",
      " [ 3  0  0  1  0  1  4  8]]\n",
      "[[6 0 0 3 3 0 0 0]\n",
      " [0 6 3 0 0 3 0 0]\n",
      " [0 3 6 0 0 0 3 0]\n",
      " [3 0 0 6 0 0 0 3]\n",
      " [5 0 0 0 4 0 0 8]\n",
      " [0 5 0 0 0 4 8 0]\n",
      " [0 0 5 0 0 8 4 0]\n",
      " [0 0 0 5 8 0 0 4]]\n"
     ]
    }
   ],
   "source": [
    "A,B= linear_relationship(substitution=approx_sub)\n",
    "\n",
    "print(A)\n",
    "print(B)"
   ]
  },
  {
   "cell_type": "code",
   "execution_count": 167,
   "metadata": {},
   "outputs": [
    {
     "name": "stdout",
     "output_type": "stream",
     "text": [
      "[4 0 0 9 7 0 0 3]\n",
      "[4 0 0 9 7 0 0 3]\n",
      "True\n"
     ]
    }
   ],
   "source": [
    "u = np.array([1,0,0,0,0,0,0,0])\n",
    "k = np.array([1,0,0,0,0,0,0,0])\n",
    "p=11\n",
    "r = 5\n",
    "\n",
    "x = encryption(u,k,p,r,\n",
    "               substitution=approx_sub,\n",
    "               transposition=transposition,\n",
    "               subkey_sum=subkey_sum,\n",
    "               linear=linear,\n",
    "               subkey_generator=subkey_generator_default\n",
    "               )\n",
    "print(x)\n",
    "print((np.dot(A,k) + np.dot(B,u))%p)\n",
    "print(np.all(x == (np.dot(A,k) + np.dot(B,u))%p))"
   ]
  },
  {
   "cell_type": "code",
   "execution_count": 97,
   "metadata": {},
   "outputs": [],
   "source": [
    "def gen_data(n_samples = 10000, size = 8, p = 11):\n",
    "    data = []\n",
    "    for _ in range(n_samples):\n",
    "        u = np.random.randint(0, p, size)\n",
    "        k = np.random.randint(0, p, size)\n",
    "\n",
    "        x = encryption(u,k,p,r,\n",
    "                    substitution=custom_substitution,\n",
    "                    transposition=transposition,\n",
    "                    subkey_sum=subkey_sum,\n",
    "                    linear=linear,\n",
    "                    subkey_generator=subkey_generator_default\n",
    "                    )\n",
    "        data.append((k, u, x))\n",
    "    return data"
   ]
  },
  {
   "cell_type": "code",
   "execution_count": 108,
   "metadata": {},
   "outputs": [],
   "source": [
    "data = gen_data(n_samples = 50000, size = 8, p = 11)"
   ]
  },
  {
   "cell_type": "code",
   "execution_count": 109,
   "metadata": {},
   "outputs": [],
   "source": [
    "def evaluate_approximation(A, B, data, p=11):\n",
    "    count = 0\n",
    "    for k, u, x in data:\n",
    "        if np.all((np.dot(A,k) + np.dot(B,u))%p == x):\n",
    "            count += 1\n",
    "    return count / len(data)"
   ]
  },
  {
   "cell_type": "code",
   "execution_count": 163,
   "metadata": {},
   "outputs": [
    {
     "name": "stdout",
     "output_type": "stream",
     "text": [
      "Probability of success: 0.00\n"
     ]
    }
   ],
   "source": [
    "prob = evaluate_approximation(A, B, data, p=11)\n",
    "print(f\"Probability of success: {prob:.2f}\")"
   ]
  },
  {
   "cell_type": "markdown",
   "metadata": {},
   "source": [
    "## Task 7\n",
    "implement the encryptor for a simplified AES-like cipher with the following parameters: $\\mathcal{K} = \\mathbb{F}^{\\ell_k}, \\ell_k = 4$\n",
    "\n",
    "ECC..."
   ]
  },
  {
   "cell_type": "code",
   "execution_count": 245,
   "metadata": {},
   "outputs": [],
   "source": [
    "def subkey_generator_task_7(key):\n",
    "\n",
    "    k_1 = [key[0],key[1],key[2],key[3]]\n",
    "    k_2 = [key[0],key[1],key[3],key[2]]\n",
    "    k_3 = [key[1],key[2],key[3],key[0]]\n",
    "    k_4 = [key[0],key[3],key[1],key[2]]\n",
    "    k_5 = [key[2],key[3],key[0],key[1]]\n",
    "    k_6 = [key[1],key[3],key[0],key[2]]\n",
    "\n",
    "    return [k_1,k_2,k_3,k_4,k_5,k_6]\n",
    "\n",
    "def mod_inv(v, p):\n",
    "    \n",
    "    x =[]\n",
    "\n",
    "    for num in v:\n",
    "        if(num != 0):\n",
    "            x.append((2*pow(num, -1, p))%p) # Calcola l'inverso di x modulo p e lo moltiplica per 2\n",
    "        else:\n",
    "            x.append(0)\n",
    "\n",
    "\n",
    "    return np.array(x) \n",
    "\n",
    "def substitution_task_7(x,p):\n",
    "    x= x.tolist()\n",
    "    return mod_inv(x, p)\n",
    "    "
   ]
  },
  {
   "cell_type": "code",
   "execution_count": 246,
   "metadata": {},
   "outputs": [
    {
     "name": "stdout",
     "output_type": "stream",
     "text": [
      "[5 0 3 2 5 2 1 1]\n"
     ]
    }
   ],
   "source": [
    "u= np.array([1,0,0,0,0,0,0,0])\n",
    "k=np.array([1,0,0,0])\n",
    "\n",
    "p= 11\n",
    "\n",
    "print(encryption(u,k,p,r,\n",
    "                 substitution=substitution_task_7,\n",
    "                 transposition=transposition,\n",
    "                 subkey_sum=subkey_sum,\n",
    "                 linear=linear,\n",
    "                 subkey_generator = subkey_generator_task_7))"
   ]
  },
  {
   "cell_type": "markdown",
   "metadata": {},
   "source": [
    "## Task 8\n",
    "\n",
    "Implement a “meet-in-the-middle” attack see against the concatenation of two\n",
    "instances of the non linear simplified AES-like cipher defined in Task 7, with different keys\n",
    "$k^′, k^{′′}$, respectively."
   ]
  },
  {
   "cell_type": "code",
   "execution_count": 227,
   "metadata": {},
   "outputs": [],
   "source": [
    "def double_enc(u, k1, k2, p, r):\n",
    "    u2 = encryption(u,k1,p,r,\n",
    "                 substitution=substitution_task_7,\n",
    "                 transposition=transposition,\n",
    "                 subkey_sum=subkey_sum,\n",
    "                 linear=linear,\n",
    "                 subkey_generator = subkey_generator_task_7)\n",
    "    \n",
    "    x = encryption(u2,k2,p,r,\n",
    "                 substitution=substitution_task_7,\n",
    "                 transposition=transposition,\n",
    "                 subkey_sum=subkey_sum,\n",
    "                 linear=linear,\n",
    "                 subkey_generator = subkey_generator_task_7)\n",
    "    return x"
   ]
  },
  {
   "cell_type": "code",
   "execution_count": 249,
   "metadata": {},
   "outputs": [],
   "source": [
    "def inv_substitution_task_7(x,p):\n",
    "    inv_x = []\n",
    "    x = x.tolist()\n",
    "    for elem in x:\n",
    "        if elem == 0:\n",
    "            inv_x.append(0)\n",
    "        elif elem % 2 == 0:\n",
    "            inv_x.append(pow((elem//2), -1, p))\n",
    "        else:\n",
    "            inv_x.append(pow(((elem+11)//2), -1, p))\n",
    "    return np.array(inv_x)  "
   ]
  },
  {
   "cell_type": "markdown",
   "metadata": {},
   "source": [
    "Test for `inv_substitution_task_7()`"
   ]
  },
  {
   "cell_type": "code",
   "execution_count": 251,
   "metadata": {},
   "outputs": [
    {
     "name": "stdout",
     "output_type": "stream",
     "text": [
      "[ 2  1  8  6  7  4  5  3 10  9]\n",
      "[ 1  2  3  4  5  6  7  8  9 10]\n",
      "True\n"
     ]
    }
   ],
   "source": [
    "a = np.array([1,2,3,4,5,6,7,8,9,10])\n",
    "sub_a = substitution_task_7(a,11)\n",
    "print(sub_a)\n",
    "inv_sub_a = inv_substitution_task_7(sub_a,11)\n",
    "print(inv_sub_a)\n",
    "print(np.all(a == inv_sub_a)) "
   ]
  },
  {
   "cell_type": "markdown",
   "metadata": {},
   "source": [
    "test decryption"
   ]
  },
  {
   "cell_type": "code",
   "execution_count": 258,
   "metadata": {},
   "outputs": [
    {
     "name": "stdout",
     "output_type": "stream",
     "text": [
      "[1 0 0 0 0 0 0 0]\n",
      "True\n"
     ]
    }
   ],
   "source": [
    "u = np.array([1,0,0,0,0,0,0,0])\n",
    "k = np.array([1,0,0,0])\n",
    "p = 11\n",
    "r = 5\n",
    "\n",
    "x = encryption(u,k,p,r,\n",
    "                 substitution=substitution_task_7,\n",
    "                 transposition=transposition,\n",
    "                 subkey_sum=subkey_sum,\n",
    "                 linear=linear,\n",
    "                 subkey_generator = subkey_generator_task_7)\n",
    "\n",
    "u_test = decryption(x,k,p,r,\n",
    "                 inv_substitution=inv_substitution_task_7,\n",
    "                 inv_transposition=inv_transposition,\n",
    "                 inv_subkey_sum=inv_subkey_sum,\n",
    "                 inv_linear=inv_linear,\n",
    "                 subkey_generator = subkey_generator_task_7)\n",
    "\n",
    "print(u_test)\n",
    "print(np.all(u == u_test))"
   ]
  },
  {
   "cell_type": "code",
   "execution_count": 313,
   "metadata": {},
   "outputs": [],
   "source": [
    "def generate_unique_random_arrays(n_samples=10000, key_size=4, p=11):\n",
    "    unique_arrays = set()   #set to not admit duplicates\n",
    "    while len(unique_arrays) < n_samples:\n",
    "        #convert to tuple to make it hashable\n",
    "        new_array = tuple(np.random.randint(0, p, key_size))\n",
    "        unique_arrays.add(new_array)\n",
    "    return [np.array(arr) for arr in unique_arrays]\n",
    "\n",
    "\n",
    "def forward_step(u1,keys, p=11,r = 5):\n",
    "    fs = []\n",
    "    for k1 in keys:\n",
    "        x1 = encryption(u1,k1,p,r,\n",
    "                 substitution=substitution_task_7,\n",
    "                 transposition=transposition,\n",
    "                 subkey_sum=subkey_sum,\n",
    "                 linear=linear,\n",
    "                 subkey_generator = subkey_generator_task_7)\n",
    "        fs.append((k1, x1))\n",
    "        fs_sorted = sorted(fs, key=lambda item: tuple(item[1]))\n",
    "    return fs_sorted\n",
    "\n",
    "\n",
    "def backward_step(x2, keys, p = 11, r = 5):\n",
    "    bs = []\n",
    "    for k2 in keys:\n",
    "        u2 = decryption(x2,k2,p,r,\n",
    "                 inv_substitution=inv_substitution_task_7,\n",
    "                 inv_transposition=inv_transposition,\n",
    "                 inv_subkey_sum=inv_subkey_sum,\n",
    "                 inv_linear=inv_linear,\n",
    "                 subkey_generator = subkey_generator_task_7)\n",
    "        bs.append((k2, u2))\n",
    "        bs_sorted = sorted(bs, key=lambda item: tuple(item[1]))\n",
    "    return bs_sorted\n",
    "\n",
    "\n",
    "def meet_in_the_middle(u, x, k1s, k2s, p=11, r=5):\n",
    "    #k1s = generate_unique_random_arrays(n_sample, key_size, p)\n",
    "    #k2s = generate_unique_random_arrays(n_sample, key_size, p)\n",
    "    keys = []\n",
    "    fs = forward_step(u, k1s, p, r)\n",
    "    bs = backward_step(x, k2s, p, r)\n",
    "\n",
    "    for k1, x1 in fs:\n",
    "        for k2, u2 in bs:\n",
    "            if np.array_equal(x1, u2):\n",
    "                keys.append((k1, k2))\n",
    "    return keys"
   ]
  },
  {
   "cell_type": "code",
   "execution_count": 315,
   "metadata": {},
   "outputs": [
    {
     "name": "stdout",
     "output_type": "stream",
     "text": [
      "[7 7 9 1 6 7 1 7]\n",
      "[(array([6, 2, 2, 7]), array([6, 4, 5, 1])), (array([0, 5, 6, 4]), array([9, 5, 2, 0]))]\n"
     ]
    }
   ],
   "source": [
    "u = np.array([1,0,0,0,0,0,0,0])\n",
    "k1 = np.array([1,2,3,4])\n",
    "k2 = np.array([5,6,7,8])\n",
    "p = 11\n",
    "r = 5\n",
    "\n",
    "x = double_enc(u, k1, k2, p, r)\n",
    "print(x)\n",
    "\n",
    "k1s = generate_unique_random_arrays()\n",
    "k2s = generate_unique_random_arrays()\n",
    "\n",
    "guess_keys = meet_in_the_middle(u, x, k1s, k2s)\n",
    "print(guess_keys)"
   ]
  },
  {
   "cell_type": "code",
   "execution_count": 318,
   "metadata": {},
   "outputs": [
    {
     "name": "stdout",
     "output_type": "stream",
     "text": [
      "[ 7 10  7  6  4  6  3  4] [ 8  2  4  1  6 10  3  2]\n",
      "[(array([0, 7, 2, 4]), array([ 2,  9, 10,  7]))]\n",
      "[ 4  5  5 10  2  3  6  5] [ 5  8 10  0  6  3  1  4]\n",
      "[(array([0, 7, 2, 4]), array([ 2,  9, 10,  7]))]\n",
      "[2 6 9 0 4 0 6 5] [ 8  2  0  1  9  6 10  7]\n",
      "[(array([ 1,  7, 10,  9]), array([5, 5, 0, 0])), (array([0, 7, 2, 4]), array([ 2,  9, 10,  7]))]\n",
      "[8 2 6 5 9 7 3 3] [4 9 6 8 2 7 7 3]\n",
      "[(array([0, 3, 1, 2]), array([8, 4, 2, 8])), (array([0, 7, 2, 4]), array([ 2,  9, 10,  7])), (array([7, 2, 6, 0]), array([5, 6, 4, 3]))]\n",
      "[ 2 10  3  1  3  8  7  7] [8 8 2 2 5 2 5 0]\n",
      "[(array([0, 7, 2, 4]), array([ 2,  9, 10,  7]))]\n"
     ]
    }
   ],
   "source": [
    "import ast\n",
    "\n",
    "with open('KPAdataQ/KPApairsQ_non_linear.txt', 'r') as file_in:\n",
    "    with open('KPAdataQ/KPAkeysQ_non_linear.txt', 'w') as file_out:\n",
    "        first = True\n",
    "        correct = True\n",
    "        #first generate the keys to ensure to find the same keys\n",
    "        k1s = generate_unique_random_arrays()\n",
    "        k1s = generate_unique_random_arrays()\n",
    "\n",
    "        for line in file_in:\n",
    "            u_str, x_str = line.split('\\t')\n",
    "            u = np.array(ast.literal_eval(u_str.strip()))\n",
    "            x = np.array(ast.literal_eval(x_str.strip()))\n",
    "            print(u, x)\n",
    "            guess_keys = meet_in_the_middle(u, x, k1s,k2s)\n",
    "            print(guess_keys)\n",
    "            '''if k1 is None:\n",
    "                print(\"**ERROR: No keys found**\")\n",
    "                correct = False\n",
    "                break\n",
    "            if first:\n",
    "                k1_first = k1\n",
    "                k2_first = k2\n",
    "                first = False\n",
    "            #elif not equal keys\n",
    "            elif not np.array_equal(k1, k_first):\n",
    "                print(\"**ERROR: Different keys**\")\n",
    "                print(\"k1\", k1)\n",
    "                print(\"k1_first\", k1_first)\n",
    "                print(\"k2\", k2)\n",
    "                print(\"k2_first\", k2_first)\n",
    "                correct = False\n",
    "                break\n",
    "        if correct:\n",
    "            print(\"**SUCCESS: All k are the same**\")'''\n",
    "            file_out.write(str(guess_keys) + '\\n')"
   ]
  },
  {
   "cell_type": "code",
   "execution_count": 316,
   "metadata": {},
   "outputs": [
    {
     "name": "stdout",
     "output_type": "stream",
     "text": [
      "[7 7 9 1 6 7 1 7]\n"
     ]
    }
   ],
   "source": [
    "u = np.array([1,0,0,0,0,0,0,0])\n",
    "k1 = np.array([0, 5, 6, 4])\n",
    "k2 = np.array([9, 5, 2, 0])\n",
    "p = 11\n",
    "r = 5\n",
    "x = double_enc(u, k1, k2, p, r)\n",
    "print(x)"
   ]
  }
 ],
 "metadata": {
  "kernelspec": {
   "display_name": "Python 3",
   "language": "python",
   "name": "python3"
  },
  "language_info": {
   "codemirror_mode": {
    "name": "ipython",
    "version": 3
   },
   "file_extension": ".py",
   "mimetype": "text/x-python",
   "name": "python",
   "nbconvert_exporter": "python",
   "pygments_lexer": "ipython3",
   "version": "3.13.2"
  }
 },
 "nbformat": 4,
 "nbformat_minor": 2
}
