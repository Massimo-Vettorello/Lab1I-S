{
 "cells": [
  {
   "cell_type": "code",
   "execution_count": 2,
   "metadata": {},
   "outputs": [],
   "source": [
    "import numpy as np"
   ]
  },
  {
   "cell_type": "markdown",
   "metadata": {},
   "source": [
    "## Task 1\n",
    "Implement the encryptor for a simplified AES-like cipher with the parameters given in the previous slides and the following substitution function:\n",
    "    $$f : y_j(j): 2v_i(j) \\mod  p, \\ j$$"
   ]
  },
  {
   "cell_type": "code",
   "execution_count": 3,
   "metadata": {},
   "outputs": [],
   "source": [
    "def subkey_generator_default(key):\n",
    "\n",
    "    k_1 = [key[0],key[2],key[4],key[6]] \n",
    "    k_2 = [key[0],key[1],key[2],key[3]] \n",
    "    k_3 = [key[0],key[3],key[4],key[7]] \n",
    "    k_4 = [key[0],key[3],key[5],key[6]] \n",
    "    k_5 = [key[0],key[2],key[5],key[7]] \n",
    "    k_6 = [key[2],key[3],key[4],key[5]] \n",
    "\n",
    "    return [k_1, k_2, k_3, k_4, k_5, k_6]\n",
    "\n",
    "def subkey_sum(k_i,w,p):\n",
    "\n",
    "    k_inter = k_i+k_i\n",
    "    k = np.array(k_inter)\n",
    "\n",
    "    return (w + k)%p"
   ]
  },
  {
   "cell_type": "code",
   "execution_count": 4,
   "metadata": {},
   "outputs": [],
   "source": [
    " \n",
    "def timesTwo(v,p):\n",
    "\n",
    "    return np.multiply(v,2)%p\n",
    "\n",
    "def transposition(y):\n",
    "\n",
    "    return np.array([y[0],y[1],y[2],y[3],y[7],y[6],y[5],y[4]])\n",
    "\n",
    "def linear(z, p):\n",
    "\n",
    "    z_matrix = z.reshape(2,4)\n",
    "\n",
    "    param_matrix = np.matrix([[2,5],[1,7]])\n",
    "    \n",
    "    w_matrix = np.dot(param_matrix,z_matrix)%p\n",
    "\n",
    "    w_array = np.asarray(w_matrix).flatten()\n",
    "    return w_array\n",
    "        \n",
    "\n",
    "\n"
   ]
  },
  {
   "cell_type": "code",
   "execution_count": 5,
   "metadata": {},
   "outputs": [],
   "source": [
    "def encryption(u,k,p,round,substitution,transposition,subkey_sum,linear, subkey_generator):\n",
    "\n",
    "    k_list = subkey_generator(k)\n",
    "\n",
    "    for i in range (round):\n",
    "        \n",
    "        #print(\"round : \",i)\n",
    "        v = subkey_sum(k_list[i],u,p)         \n",
    "        #print(\"post subkey_sum\",v)\n",
    "        y = substitution(v,p)\n",
    "        #print(\"post timesTwo\",y)\n",
    "        z = transposition(y)\n",
    "        #print(\"post transpo\",z)\n",
    "        if i == round-1:\n",
    "            x = subkey_sum(k_list[i+1],z,p)\n",
    "            break\n",
    "        u = linear(z, p)\n",
    "        #print(\"post linear\", u)\n",
    "        \n",
    "    return x\n"
   ]
  },
  {
   "cell_type": "code",
   "execution_count": 6,
   "metadata": {},
   "outputs": [
    {
     "name": "stdout",
     "output_type": "stream",
     "text": [
      "[4 0 0 9 7 0 0 3]\n"
     ]
    }
   ],
   "source": [
    "u = np.array([1,0,0,0,0,0,0,0])\n",
    "k = np.array([1,0,0,0,0,0,0,0])\n",
    "p=11\n",
    "r = 5\n",
    "\n",
    "x = encryption(u,k,p,r,\n",
    "               substitution=timesTwo,\n",
    "               transposition=transposition,\n",
    "               subkey_sum=subkey_sum,\n",
    "               linear=linear,\n",
    "               subkey_generator=subkey_generator_default)\n",
    "\n",
    "print(x)\n"
   ]
  },
  {
   "cell_type": "markdown",
   "metadata": {},
   "source": [
    "## Task 2\n",
    "Implement the decryptor for this simplified AES-like cipher. Note that decryption is performed by the inverse blocks in reverse order. Therefore, you have to implement the inverse of each function used to encrypt the message (subkey sum, substitution, transposition and linear), taking into consideration that all the operations must be done in the field $\\mathbb{F} = GF(p)$."
   ]
  },
  {
   "cell_type": "code",
   "execution_count": 7,
   "metadata": {},
   "outputs": [],
   "source": [
    "def inv_timesTwo(v,p):\n",
    "    mul_inv = pow(2,-1,p)\n",
    "    return np.multiply(v,mul_inv)%p\n",
    "\n",
    "\n",
    "def inv_transposition(y):\n",
    "    return np.array([y[0],y[1],y[2],y[3],y[7],y[6],y[5],y[4]])\n",
    "\n",
    "\n",
    "def inv_subkey_sum(k_i,w,p):\n",
    "\n",
    "    k_inter = k_i+k_i\n",
    "    k = np.array(k_inter) #list\n",
    "\n",
    "    return (w - k)%p\n",
    "\n",
    "#Calcolo dell'inversa della matrice modulo p\n",
    "def inv_matrix(m, p):\n",
    "    # Calcolo del determinante della matrice\n",
    "    det = int(np.round(np.linalg.det(m)))  # Determinante della matrice\n",
    "    det_inv = pow(det, -1, p)  # Inverso del determinante modulo p\n",
    "\n",
    "    # Calcolo della matrice aggiunta (trasposta della matrice dei cofattori)\n",
    "    cofactors = np.zeros_like(m, dtype=int)\n",
    "    n = m.shape[0]\n",
    "    for i in range(n):\n",
    "        for j in range(n):\n",
    "            minor = np.delete(np.delete(m, i, axis=0), j, axis=1)  # Minore\n",
    "            cofactor = ((-1) ** (i + j)) * int(np.round(np.linalg.det(minor)))\n",
    "            cofactors[i, j] = cofactor\n",
    "\n",
    "    adj_matrix = cofactors.T  # Trasposta della matrice dei cofattori\n",
    "\n",
    "    # Calcolo dell'inversa modulo p\n",
    "    m_inv = (det_inv * adj_matrix) % p\n",
    "\n",
    "    return m_inv\n",
    "\n",
    "def inv_linear(z, p):\n",
    "    z_matrix = z.reshape(2, 4)\n",
    "\n",
    "    param_matrix = np.array([[2, 5], [1, 7]])\n",
    "\n",
    "    #Calcolo dell'inversa della matrice modulo p\n",
    "    param_matrix_inv = inv_matrix(param_matrix, p)\n",
    "\n",
    "    w_matrix = np.dot(param_matrix_inv, z_matrix) % p\n",
    "\n",
    "    w_array = np.asarray(w_matrix, dtype=int).flatten()\n",
    "\n",
    "    return w_array\n",
    "\n",
    "\n",
    "def decryption(x,k,p,round):\n",
    "    k_list = subkey_generator_default(k)\n",
    "\n",
    "    for i in range(round,-1,-1):\n",
    "        #print(\"round : \", i)\n",
    "        z = inv_subkey_sum(k_list[i],x,p)            #v = u - k\n",
    "        #print(\"post subkey_sum\",z)\n",
    "        if i == 0:\n",
    "            x = z\n",
    "            break\n",
    "        elif i != round:\n",
    "            w = inv_linear(z, p)\n",
    "            #print(\"post linear\", w)\n",
    "        else:\n",
    "            w = z\n",
    "        y = inv_transposition(w)\n",
    "        #print(\"post transpo\",y)\n",
    "        x = inv_timesTwo(y,p)\n",
    "        #print(\"post timesTwo\",x)\n",
    "        \n",
    "    return x"
   ]
  },
  {
   "cell_type": "markdown",
   "metadata": {},
   "source": [
    "Test for inv_linear"
   ]
  },
  {
   "cell_type": "code",
   "execution_count": 8,
   "metadata": {},
   "outputs": [
    {
     "name": "stdout",
     "output_type": "stream",
     "text": [
      "[0 1 4 6 7 0 9 6]\n",
      "[1 2 3 5 4 6 4 8]\n"
     ]
    }
   ],
   "source": [
    "a = linear(np.array([1,2,3,5,4,6,4,8]), p)  #change the array to test\n",
    "print(a)\n",
    "b = inv_linear(a, p)\n",
    "print(b)"
   ]
  },
  {
   "cell_type": "code",
   "execution_count": 9,
   "metadata": {},
   "outputs": [
    {
     "name": "stdout",
     "output_type": "stream",
     "text": [
      "[1 0 0 0 0 0 0 0]\n"
     ]
    }
   ],
   "source": [
    "u = decryption(x,k,p,r)\n",
    "print(u)"
   ]
  },
  {
   "cell_type": "markdown",
   "metadata": {},
   "source": [
    "Other tests for decryption"
   ]
  },
  {
   "cell_type": "code",
   "execution_count": 10,
   "metadata": {},
   "outputs": [
    {
     "name": "stdout",
     "output_type": "stream",
     "text": [
      "[ 8  6  1  8  6  8 10  3]\n",
      "[1 8 3 6 8 6 9 2]\n"
     ]
    }
   ],
   "source": [
    "a = np.array([1,8,3,6,8,6,9,2]) #change plaintext to test\n",
    "b = np.array([1,0,4,0,3,0,2,0]) #change key to test\n",
    "c = encryption(a,b,p,r,\n",
    "               substitution=timesTwo,\n",
    "               transposition=transposition,\n",
    "               subkey_sum=subkey_sum,\n",
    "               linear=linear,\n",
    "               subkey_generator=subkey_generator_default)\n",
    "\n",
    "print(c)\n",
    "d = decryption(c,b,p,r)\n",
    "print(d)"
   ]
  },
  {
   "cell_type": "markdown",
   "metadata": {},
   "source": [
    "## Task 3\n",
    "Identify the overall linear relationship for this simplified AES-like cipher, that is find the\n",
    "matrices $A ∈ F^{(ℓ_x × ℓ_k)}$ and $B ∈ F^{(ℓ_x × ℓ_u)}$ such that\n",
    "$$x = E(k, u) = Ak + Bu \\mod p$$\n",
    "with all operations in the field $\\mathbb{F} = GF(p)$."
   ]
  },
  {
   "cell_type": "code",
   "execution_count": 11,
   "metadata": {},
   "outputs": [],
   "source": [
    "def linear_relationship():  #pass the encryption function as a parameter\n",
    "    k_a = np.eye(8, dtype=int)\n",
    "    e_a = np.zeros(8, dtype=int)\n",
    "    A = np.empty((8,0), dtype=int)\n",
    "\n",
    "    e_b = np.eye(8, dtype=int)\n",
    "    k_b = np.zeros(8, dtype=int)\n",
    "    B = np.empty((8,0), dtype=int)\n",
    "\n",
    "    #k = e_j, u = 0\n",
    "    for i in range(8):\n",
    "\n",
    "        encrypted_value = encryption(e_a, np.asarray(k_a[i]), p, r,\n",
    "                                    substitution=timesTwo,\n",
    "                                    transposition=transposition,\n",
    "                                    subkey_sum=subkey_sum,\n",
    "                                    linear=linear,\n",
    "                                    subkey_generator=subkey_generator_default)\n",
    "        A = np.hstack((A, encrypted_value.reshape(-1, 1)))\n",
    "        #print(encrypted_value)\n",
    "        #print(k_a[i])\n",
    "    #print(A)\n",
    "\n",
    "    for i in range(8):\n",
    "\n",
    "        encrypted_value = encryption(np.asarray(e_b[i]),k_b,p,r,\n",
    "                                    substitution=timesTwo,\n",
    "                                    transposition=transposition,\n",
    "                                    subkey_sum=subkey_sum,\n",
    "                                    linear=linear,\n",
    "                                    subkey_generator=subkey_generator_default)\n",
    "        B = np.hstack((B, encrypted_value.reshape(-1, 1)))\n",
    "\n",
    "\n",
    "    #print(B)\n",
    "\n",
    "    return A, B"
   ]
  },
  {
   "cell_type": "code",
   "execution_count": 12,
   "metadata": {},
   "outputs": [
    {
     "name": "stdout",
     "output_type": "stream",
     "text": [
      "[4 0 0 9 7 0 0 3]\n",
      "True\n"
     ]
    }
   ],
   "source": [
    "u = np.array([1,0,0,0,0,0,0,0])\n",
    "k = np.array([1,0,0,0,0,0,0,0])\n",
    "\n",
    "x = encryption(u,k,p,r,\n",
    "               substitution=timesTwo,\n",
    "               transposition=transposition,\n",
    "               subkey_sum=subkey_sum,\n",
    "               linear=linear,\n",
    "               subkey_generator=subkey_generator_default)\n",
    "\n",
    "A, B = linear_relationship()\n",
    "\n",
    "#print(A)\n",
    "#print(B)\n",
    "print((np.dot(A,k) + np.dot(B,u))%p)\n",
    "print(np.all(x == (np.dot(A,k) + np.dot(B,u))%p))"
   ]
  },
  {
   "cell_type": "code",
   "execution_count": 13,
   "metadata": {},
   "outputs": [
    {
     "name": "stdout",
     "output_type": "stream",
     "text": [
      "[[ 9  0  1  6  0  0  1 10]\n",
      " [ 0  8  6  2  2  9  0  0]\n",
      " [ 0  6  0  8  3 10  0  0]\n",
      " [ 6  0  0  8  0  1  6  6]\n",
      " [ 2  0  1 10  0  0  1  3]\n",
      " [ 0  1  8  4  9  6  0  0]\n",
      " [ 0 10  0  5  7  6  0  0]\n",
      " [ 3  0  0  1  0  1  4  8]]\n",
      "[[6 0 0 3 3 0 0 0]\n",
      " [0 6 3 0 0 3 0 0]\n",
      " [0 3 6 0 0 0 3 0]\n",
      " [3 0 0 6 0 0 0 3]\n",
      " [5 0 0 0 4 0 0 8]\n",
      " [0 5 0 0 0 4 8 0]\n",
      " [0 0 5 0 0 8 4 0]\n",
      " [0 0 0 5 8 0 0 4]]\n",
      "[10  0  0  6  3  0  0  8]\n",
      "[10  0  0  6  3  0  0  8]\n",
      "[ True  True  True  True  True  True  True  True]\n"
     ]
    }
   ],
   "source": [
    "u_1 = np.array([0,0,0,0,0,0,0,0]) #change plaintext to test\n",
    "k_1 = np.array([0,0,0,0,0,0,0,1]) #change key to test\n",
    "\n",
    "x = encryption(u_1,k_1,p,r,\n",
    "               substitution=timesTwo,\n",
    "               transposition=transposition,\n",
    "               subkey_sum=subkey_sum,\n",
    "               linear=linear,\n",
    "               subkey_generator=subkey_generator_default)\n",
    "\n",
    "A, B = linear_relationship()\n",
    "\n",
    "print(A)\n",
    "print(B)\n",
    "\n",
    "print(x)\n",
    "print((np.dot(A,k_1) + np.dot(B,u_1))%p)\n",
    "\n",
    "print(x == (np.dot(A,k_1) + np.dot(B,u_1))%p)"
   ]
  },
  {
   "cell_type": "markdown",
   "metadata": {},
   "source": [
    "## Task 4\n",
    "From a known plaintext/ciphertext pair $(u, x)$, implement a linear cryptanalysis KPA against this cipher by computing \n",
    "$$k = A^{−1}(x − Bu) \\mod p$$ \n",
    "with all operations in the field $\\mathbb{F} = GF(p)$"
   ]
  },
  {
   "cell_type": "code",
   "execution_count": 43,
   "metadata": {},
   "outputs": [
    {
     "name": "stdout",
     "output_type": "stream",
     "text": [
      "[[10  9  6 10  2  0  9  4]\n",
      " [ 8  0  9  4  4  4  2  2]\n",
      " [ 3 10  9  7  7  1  3  9]\n",
      " [ 0  2  7  0  0  4  7  0]\n",
      " [ 2  5  8  1  1  0  0  6]\n",
      " [10  9  1  5  5  1  2  8]\n",
      " [ 5  7  3  3  9  4  1  6]\n",
      " [ 9  0  9  1  1  7  6  7]]\n"
     ]
    }
   ],
   "source": [
    "determinant = round(np.linalg.det(A))\n",
    "A_ast = np.linalg.inv(A)\n",
    "\n",
    "A_tilda = A_ast*determinant\n",
    "\n",
    "det_inv = pow(determinant, -1, p)\n",
    "\n",
    "A_inv = np.round(A_tilda *det_inv).astype(int) % p\n",
    "\n",
    "print(A_inv)\n",
    "\n"
   ]
  },
  {
   "cell_type": "code",
   "execution_count": 49,
   "metadata": {},
   "outputs": [
    {
     "name": "stdout",
     "output_type": "stream",
     "text": [
      "[0 0 0 0 0 0 0 0]\n",
      "[10  0  0  6  3  0  0  8]\n",
      "[0 0 0 0 0 0 0 1]\n"
     ]
    }
   ],
   "source": [
    "u = u_1\n",
    "print(u_1)\n",
    "x = np.array([10, 0, 0, 6, 3, 0, 0, 8])\n",
    "print(x)\n",
    "key = (A_inv@(x - B@u)) %p\n",
    "\n",
    "print(key)\n"
   ]
  },
  {
   "cell_type": "markdown",
   "metadata": {},
   "source": [
    "## Task 5\n",
    "implement the encryptor for a simplified AES-like cipher with the parameters given in the previous slides and the substitution function described by the following table\n",
    "|$v_i(j)$|0|1|2|3|4|5|6|7|8|9|10|\n",
    "|--------|-|-|-|-|-|-|-|-|-|-|--|\n",
    "|$y_i(j)$|0|2|4|8|6|10|1|3|5|7|9|\n",
    "\n",
    "where $j ∈ \\{1, . . . , ℓ\\}$"
   ]
  },
  {
   "cell_type": "code",
   "execution_count": null,
   "metadata": {},
   "outputs": [],
   "source": [
    "def custom_substitution_number(v):\n",
    "    if(v == 0):\n",
    "        return 0\n",
    "    if(v == 1):\n",
    "        return 2\n",
    "    if(v == 2):\n",
    "        return 4\n",
    "    if(v == 3):\n",
    "        return 8\n",
    "    if(v == 4):\n",
    "        return 6\n",
    "    if(v == 5):\n",
    "        return 10\n",
    "    if(v == 6):\n",
    "        return 1\n",
    "    if(v == 7):\n",
    "        return 3\n",
    "    if(v == 8):\n",
    "        return 5\n",
    "    if(v == 9):\n",
    "        return 7\n",
    "    if(v == 10):\n",
    "        return 9\n",
    "    \n",
    "def custom_substitution(v,p):\n",
    "\n",
    "    for i in range(8):\n",
    "        v[i] = custom_substitution_number(v[i])\n",
    "    \n",
    "    return v\n"
   ]
  },
  {
   "cell_type": "code",
   "execution_count": null,
   "metadata": {},
   "outputs": [
    {
     "name": "stdout",
     "output_type": "stream",
     "text": [
      "[9 8 0 7 6 2 7 9]\n"
     ]
    }
   ],
   "source": [
    "print(encryption(u,k,p,r,\n",
    "                 substitution=custom_substitution,\n",
    "                 transposition=transposition,\n",
    "                 subkey_sum=subkey_sum,\n",
    "                 linear=linear,\n",
    "                 subkey_generator=subkey_generator_default\n",
    "                 ))"
   ]
  },
  {
   "cell_type": "markdown",
   "metadata": {},
   "source": [
    "## Task 6\n",
    "Linear cryptanalysis of a “nearly linear” cipher"
   ]
  },
  {
   "cell_type": "code",
   "execution_count": null,
   "metadata": {},
   "outputs": [],
   "source": []
  },
  {
   "cell_type": "markdown",
   "metadata": {},
   "source": [
    "## Task 7\n",
    "implement the encryptor for a simplified AES-like cipher with the following parameters: $\\mathcal{K} = \\mathbb{F}^{\\ell_k}, \\ell_k = 4$\n",
    "\n",
    "ECC..."
   ]
  },
  {
   "cell_type": "code",
   "execution_count": null,
   "metadata": {},
   "outputs": [],
   "source": [
    "def subkey_generator_task_7(key):\n",
    "\n",
    "    k_1 = [key[0],key[1],key[2],key[3]]\n",
    "    k_2 = [key[0],key[1],key[3],key[2]]\n",
    "    k_3 = [key[1],key[2],key[3],key[0]]\n",
    "    k_4 = [key[0],key[3],key[1],key[2]]\n",
    "    k_5 = [key[2],key[3],key[0],key[1]]\n",
    "    k_6 = [key[1],key[3],key[0],key[2]]\n",
    "\n",
    "    return [k_1,k_2,k_3,k_4,k_5,k_6]\n",
    "\n",
    "def mod_inv(v, p):\n",
    "    \n",
    "    x =[]\n",
    "\n",
    "    for num in v:\n",
    "        if(num != 0):\n",
    "            x.append(2*pow(num, -1, p))\n",
    "        else:\n",
    "            x.append(0)\n",
    "\n",
    "\n",
    "    return np.array(x) # Calcola l'inverso di x modulo p\n",
    "\n",
    "def substitution_task_7(x,p):\n",
    "    x= x.tolist()\n",
    "    return mod_inv(x, p)\n",
    "    "
   ]
  },
  {
   "cell_type": "code",
   "execution_count": null,
   "metadata": {},
   "outputs": [
    {
     "name": "stdout",
     "output_type": "stream",
     "text": [
      "[5 0 3 2 5 2 1 1]\n"
     ]
    }
   ],
   "source": [
    "u= np.array([1,0,0,0,0,0,0,0])\n",
    "k=np.array([1,0,0,0])\n",
    "\n",
    "p= 11\n",
    "\n",
    "print(encryption(u,k,p,r,\n",
    "                 substitution=substitution_task_7,\n",
    "                 transposition=transposition,\n",
    "                 subkey_sum=subkey_sum,\n",
    "                 linear=linear,\n",
    "                 subkey_generator = subkey_generator_task_7))"
   ]
  }
 ],
 "metadata": {
  "kernelspec": {
   "display_name": "base",
   "language": "python",
   "name": "python3"
  },
  "language_info": {
   "codemirror_mode": {
    "name": "ipython",
    "version": 3
   },
   "file_extension": ".py",
   "mimetype": "text/x-python",
   "name": "python",
   "nbconvert_exporter": "python",
   "pygments_lexer": "ipython3",
   "version": "3.12.3"
  }
 },
 "nbformat": 4,
 "nbformat_minor": 2
}
