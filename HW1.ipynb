{
 "cells": [
  {
   "cell_type": "code",
   "execution_count": 5,
   "metadata": {},
   "outputs": [],
   "source": [
    "import numpy as np"
   ]
  },
  {
   "cell_type": "markdown",
   "metadata": {},
   "source": [
    "## Task 1\n",
    "Implement the encryptor for a simplified AES-like cipher with the parameters given in the previous slides and the following substitution function:\n",
    "    $$f : y_j(j): 2v_i(j) \\mod  p, \\ j$$"
   ]
  },
  {
   "cell_type": "code",
   "execution_count": 6,
   "metadata": {},
   "outputs": [],
   "source": [
    "def subkey_generator(key):\n",
    "\n",
    "    k_1 = [key[0],key[2],key[4],key[6]] \n",
    "    k_2 = [key[0],key[1],key[2],key[6]] \n",
    "    k_3 = [key[0],key[3],key[4],key[6]] \n",
    "    k_4 = [key[0],key[3],key[5],key[6]] \n",
    "    k_5 = [key[0],key[2],key[5],key[6]] \n",
    "    k_6 = [key[2],key[4],key[4],key[6]] \n",
    "\n",
    "    return [k_1, k_2, k_3, k_4, k_5, k_6]\n",
    "\n",
    "def subkey_sum(k_i,w,p):\n",
    "\n",
    "    k_inter = k_i+k_i\n",
    "    k = np.array(k_inter)\n",
    "\n",
    "    return (w + k)%p\n",
    "\n"
   ]
  },
  {
   "cell_type": "code",
   "execution_count": 7,
   "metadata": {},
   "outputs": [],
   "source": [
    " \n",
    "def timesTwo(v,p):\n",
    "\n",
    "    return np.multiply(v,2)%p\n",
    "\n",
    "def transposition(y):\n",
    "\n",
    "    return np.array([y[0],y[1],y[2],y[3],y[7],y[6],y[5],y[4]])\n",
    "\n",
    "def linear(z, p):\n",
    "\n",
    "    z_matrix = z.reshape(2,4)\n",
    "\n",
    "    param_matrix = np.matrix([[2,5],[1,7]])\n",
    "\n",
    "    w_matrix = np.dot(param_matrix,z_matrix)%p\n",
    "\n",
    "    w_array = np.asarray(w_matrix).flatten()\n",
    "\n",
    "    return w_array\n",
    "        \n",
    "\n",
    "\n"
   ]
  },
  {
   "cell_type": "code",
   "execution_count": 8,
   "metadata": {},
   "outputs": [],
   "source": [
    "def encryption(u,k,p,round,substitution,transposition,subkey_sum,linear):\n",
    "\n",
    "    k_list = subkey_generator(k)\n",
    "\n",
    "    for i in range (round):\n",
    "        \n",
    "        #print(\"round : \",i)\n",
    "        v = subkey_sum(k_list[i],u,p)         \n",
    "        #print(\"post subkey_sum\",v)\n",
    "        y = substitution(v,p)\n",
    "        #print(\"post timesTwo\",y)\n",
    "        z = transposition(y)\n",
    "        #print(\"post transpo\",z)\n",
    "        if i == round-1:\n",
    "            x = subkey_sum(k_list[i+1],z,p)\n",
    "            break\n",
    "        u = linear(z, p)\n",
    "        #print(\"post linear\", u)\n",
    "        \n",
    "    return x\n"
   ]
  },
  {
   "cell_type": "code",
   "execution_count": 9,
   "metadata": {},
   "outputs": [
    {
     "name": "stdout",
     "output_type": "stream",
     "text": [
      "[4 0 0 9 7 0 0 3]\n"
     ]
    }
   ],
   "source": [
    "u = np.array([1,0,0,0,0,0,0,0])\n",
    "k = np.array([1,0,0,0,0,0,0,0])\n",
    "p=11\n",
    "r = 5\n",
    "\n",
    "x = encryption(u,k,p,r,\n",
    "               substitution=timesTwo,\n",
    "               transposition=transposition,\n",
    "               subkey_sum=subkey_sum,\n",
    "               linear=linear)\n",
    "\n",
    "print(x)\n"
   ]
  },
  {
   "cell_type": "markdown",
   "metadata": {},
   "source": [
    "## Task 2\n",
    "Implement the decryptor for this simplified AES-like cipher. Note that decryption is performed by the inverse blocks in reverse order. Therefore, you have to implement the inverse of each function used to encrypt the message (subkey sum, substitution, transposition and linear), taking into consideration that all the operations must be done in the field $\\mathbb{F} = GF(p)$."
   ]
  },
  {
   "cell_type": "code",
   "execution_count": null,
   "metadata": {},
   "outputs": [],
   "source": [
    "def inv_timesTwo(v,p):\n",
    "    mul_inv = pow(2,-1,p)\n",
    "    return np.multiply(v,mul_inv)%p\n",
    "\n",
    "\n",
    "def inv_transposition(y):\n",
    "    return np.array([y[0],y[1],y[2],y[3],y[7],y[6],y[5],y[4]])\n",
    "\n",
    "\n",
    "def inv_subkey_sum(k_i,w,p):\n",
    "\n",
    "    k_inter = k_i+k_i\n",
    "    k = np.array(k_inter) #list\n",
    "\n",
    "    return (w - k)%p\n",
    "\n",
    "#Calcolo dell'inversa della matrice modulo p\n",
    "def inv_matrix(m, p):\n",
    "    det = int(np.round(np.linalg.det(m)))  #Determinante della matrice\n",
    "    det_inv = pow(det, -1, p)  #Inverso del determinante modulo p\n",
    "    adj_matrix = np.array([[m[1, 1], -m[0, 1]],\n",
    "                           [-m[1, 0], m[0, 0]]])  #Matrice aggiunta\n",
    "    m_inv = (det_inv * adj_matrix) % p  #Inversa modulo p\n",
    "\n",
    "    return m_inv\n",
    "\n",
    "def inv_linear(z, p):\n",
    "    z_matrix = z.reshape(2, 4)\n",
    "\n",
    "    param_matrix = np.array([[2, 5], [1, 7]])\n",
    "\n",
    "    #Calcolo dell'inversa della matrice modulo p\n",
    "    param_matrix_inv = inv_matrix(param_matrix, p)\n",
    "\n",
    "    w_matrix = np.dot(param_matrix_inv, z_matrix) % p\n",
    "\n",
    "    w_array = np.asarray(w_matrix, dtype=int).flatten()\n",
    "\n",
    "    return w_array\n",
    "\n",
    "\n",
    "def decryption(x,k,p,round):\n",
    "    k_list = subkey_generator(k)\n",
    "\n",
    "    for i in range(round,-1,-1):\n",
    "        print(\"round : \", i)\n",
    "\n",
    "        z = inv_subkey_sum(k_list[i],x,p)            #v = u - k\n",
    "        print(\"post subkey_sum\",z)\n",
    "        \n",
    "        if i == 0:\n",
    "            x = z\n",
    "            break\n",
    "        elif i != round:\n",
    "            w = inv_linear(z, p)\n",
    "            print(\"post linear\", w)\n",
    "        else:\n",
    "            w = z\n",
    "\n",
    "        y = inv_transposition(w)\n",
    "        print(\"post transpo\",y)\n",
    "\n",
    "        x = inv_timesTwo(y,p)\n",
    "        print(\"post timesTwo\",x)\n",
    "        \n",
    "    return x"
   ]
  },
  {
   "cell_type": "markdown",
   "metadata": {},
   "source": [
    "Test for inv_linear"
   ]
  },
  {
   "cell_type": "code",
   "execution_count": 11,
   "metadata": {},
   "outputs": [
    {
     "name": "stdout",
     "output_type": "stream",
     "text": [
      "[ 2  0  2 10  1  0  4  5]\n",
      "[1 0 3 5 0 0 8 0]\n"
     ]
    }
   ],
   "source": [
    "a = linear(np.array([1,0,3,5,0,0,8,0]), p)  #change the array to test\n",
    "print(a)\n",
    "b = inv_linear(a, p)\n",
    "print(b)"
   ]
  },
  {
   "cell_type": "code",
   "execution_count": 12,
   "metadata": {},
   "outputs": [
    {
     "name": "stdout",
     "output_type": "stream",
     "text": [
      "round :  5\n",
      "post subkey_sum [4 0 0 9 7 0 0 3]\n",
      "post transpo [4 0 0 9 3 0 0 7]\n",
      "post timesTwo [ 2  0  0 10  7  0  0  9]\n",
      "round :  4\n",
      "post subkey_sum [ 1  0  0 10  6  0  0  9]\n",
      "post linear [6 0 0 4 0 0 0 7]\n",
      "post transpo [6 0 0 4 7 0 0 0]\n",
      "post timesTwo [3 0 0 2 9 0 0 0]\n",
      "round :  3\n",
      "post subkey_sum [2 0 0 2 8 0 0 0]\n",
      "post linear [2 0 0 4 4 0 0 1]\n",
      "post transpo [2 0 0 4 1 0 0 4]\n",
      "post timesTwo [1 0 0 2 6 0 0 2]\n",
      "round :  2\n",
      "post subkey_sum [0 0 0 2 5 0 0 2]\n",
      "post linear [ 7  0  0  9  6  0  0 10]\n",
      "post transpo [ 7  0  0  9 10  0  0  6]\n",
      "post timesTwo [ 9  0  0 10  5  0  0  3]\n",
      "round :  1\n",
      "post subkey_sum [ 8  0  0 10  4  0  0  3]\n",
      "post linear [4 0 0 0 0 0 0 2]\n",
      "post transpo [4 0 0 0 2 0 0 0]\n",
      "post timesTwo [2 0 0 0 1 0 0 0]\n",
      "round :  0\n",
      "post subkey_sum [1 0 0 0 0 0 0 0]\n",
      "[1 0 0 0 0 0 0 0]\n"
     ]
    }
   ],
   "source": [
    "u = decryption(x,k,p,r)\n",
    "print(u)"
   ]
  },
  {
   "cell_type": "markdown",
   "metadata": {},
   "source": [
    "Other tests for decryption"
   ]
  },
  {
   "cell_type": "code",
   "execution_count": 13,
   "metadata": {},
   "outputs": [
    {
     "name": "stdout",
     "output_type": "stream",
     "text": [
      "[1 0 3 5 0 0 8 0]\n",
      "round :  5\n",
      "post subkey_sum [8 8 0 3 7 8 5 9]\n",
      "post transpo [8 8 0 3 9 5 8 7]\n",
      "post timesTwo [ 4  4  0  7 10  8  4  9]\n",
      "round :  4\n",
      "post subkey_sum [3 0 0 5 9 4 4 7]\n",
      "post linear [ 1 10 10  0  9  7  7  1]\n",
      "post transpo [ 1 10 10  0  1  7  7  9]\n",
      "post timesTwo [ 6  5  5  0  6  9  9 10]\n",
      "round :  3\n",
      "post subkey_sum [5 5 5 9 5 9 9 8]\n",
      "post linear [ 6  5  5  5  3 10 10  2]\n",
      "post transpo [ 6  5  5  5  2 10 10  3]\n",
      "post timesTwo [3 8 8 8 1 5 5 7]\n",
      "round :  2\n",
      "post subkey_sum [2 8 5 6 0 5 2 5]\n",
      "post linear [ 4  1  4  8  1 10  6  9]\n",
      "post transpo [ 4  1  4  8  9  6 10  1]\n",
      "post timesTwo [ 2  6  2  4 10  3  5  6]\n",
      "round :  1\n",
      "post subkey_sum [1 6 9 2 9 3 1 4]\n",
      "post linear [8 3 4 3 8 0 9 8]\n",
      "post transpo [8 3 4 3 8 9 0 8]\n",
      "post timesTwo [ 4  7  2  7  4 10  0  4]\n",
      "round :  0\n",
      "post subkey_sum [ 3  3 10  5  3  6  8  2]\n",
      "[ 3  3 10  5  3  6  8  2]\n"
     ]
    }
   ],
   "source": [
    "a = np.array([1,8,3,6,5,6,7,2]) #change plaintext to test\n",
    "k = np.array([1,0,4,0,3,0,2,0]) #change key to test\n",
    "x = encryption(u,k,p,r,\n",
    "               substitution=timesTwo,\n",
    "               transposition=transposition,\n",
    "               subkey_sum=subkey_sum,\n",
    "               linear=linear)\n",
    "\n",
    "print(b)\n",
    "c = decryption(b,k,p,r)\n",
    "print(c)"
   ]
  },
  {
   "cell_type": "markdown",
   "metadata": {},
   "source": [
    "## Task 3\n",
    "Identify the overall linear relationship for this simplified AES-like cipher, that is find the\n",
    "matrices $A ∈ F^{(ℓ_x × ℓ_k)}$ and $B ∈ F^{(ℓ_x × ℓ_u)}$ such that\n",
    "$$x = E(k, u) = Ak + Bu \\mod p$$\n",
    "with all operations in the field $\\mathbb{F} = GF(p)$."
   ]
  },
  {
   "cell_type": "code",
   "execution_count": null,
   "metadata": {},
   "outputs": [
    {
     "name": "stdout",
     "output_type": "stream",
     "text": [
      "[[ 9.  0.  1.  0.  0.  0.  6.  0.]\n",
      " [ 0.  8.  6.  1.  3.  9.  0.  0.]\n",
      " [ 0.  6.  0.  8.  3. 10.  0.  0.]\n",
      " [ 6.  0.  0.  0.  0.  0. 10.  0.]\n",
      " [ 2.  0.  1.  0.  0.  0.  3.  0.]\n",
      " [ 0.  1.  8.  3. 10.  6.  0.  0.]\n",
      " [ 0. 10.  0.  5.  7.  6.  0.  0.]\n",
      " [ 3.  0.  0.  0.  0.  0.  3.  0.]]\n",
      "[[6. 0. 0. 3. 3. 0. 0. 0.]\n",
      " [0. 6. 3. 0. 0. 3. 0. 0.]\n",
      " [0. 3. 6. 0. 0. 0. 3. 0.]\n",
      " [3. 0. 0. 6. 0. 0. 0. 3.]\n",
      " [5. 0. 0. 0. 4. 0. 0. 8.]\n",
      " [0. 5. 0. 0. 0. 4. 8. 0.]\n",
      " [0. 0. 5. 0. 0. 8. 4. 0.]\n",
      " [0. 0. 0. 5. 8. 0. 0. 4.]]\n",
      "[ 9.  0.  9.  7.  6.  7. 10.  9.]\n"
     ]
    }
   ],
   "source": [
    "e = np.eye(8, dtype=int)\n",
    "k_a = np.zeros(8)\n",
    "A = np.empty((8,0))\n",
    "\n",
    "x = encryption(u,k,p,r,\n",
    "               substitution=timesTwo,\n",
    "               transposition=transposition,\n",
    "               subkey_sum=subkey_sum,\n",
    "               linear=linear)\n",
    "\n",
    "\n",
    "for i in range(8):\n",
    "\n",
    "    encrypted_value = encryption(k_a, np.asarray(e[i]).flatten(), p, r,\n",
    "                                 substitution=timesTwo,\n",
    "                                 transposition=transposition,\n",
    "                                 subkey_sum=subkey_sum,\n",
    "                                 linear=linear)\n",
    "    \n",
    "    A = np.hstack((A, encrypted_value.reshape(-1, 1)))\n",
    "\n",
    "print(A)\n",
    "\n",
    "\n",
    "\n",
    "k_b = np.eye(8, dtype=int)\n",
    "e = np.zeros(8)\n",
    "B = np.empty((8,0))\n",
    "\n",
    "for i in range(8):\n",
    "\n",
    "    encrypted_value = encryption(np.asarray(k_b[i]).flatten(),e,p,r,\n",
    "                                 substitution=timesTwo,\n",
    "                                 transposition=transposition,\n",
    "                                 subkey_sum=subkey_sum,\n",
    "                                 linear=linear)\n",
    "    B = np.hstack((B, encrypted_value.reshape(-1, 1)))\n",
    "\n",
    "\n",
    "print(B)\n",
    "\n",
    "x = (np.dot(A,k) + np.dot(B,u))%p\n",
    "\n",
    "print(x)"
   ]
  },
  {
   "cell_type": "markdown",
   "metadata": {},
   "source": []
  },
  {
   "cell_type": "code",
   "execution_count": null,
   "metadata": {},
   "outputs": [],
   "source": []
  },
  {
   "cell_type": "markdown",
   "metadata": {},
   "source": [
    "## Task 5\n",
    "implement the encryptor for a simplified AES-like cipher with the parameters given in the previous slides and the substitution function described by the following table\n",
    "|$v_i(j)$|0|1|2|3|4|5|6|7|8|9|10|\n",
    "|--------|-|-|-|-|-|-|-|-|-|-|--|\n",
    "|$y_i(j)$|0|2|4|8|6|10|1|3|5|7|9|\n",
    "\n",
    "where $j ∈ \\{1, . . . , ℓ\\}$"
   ]
  },
  {
   "cell_type": "code",
   "execution_count": 15,
   "metadata": {},
   "outputs": [],
   "source": [
    "def custom_substitution_number(v):\n",
    "    if(v == 0):\n",
    "        return 0\n",
    "    if(v == 1):\n",
    "        return 2\n",
    "    if(v == 2):\n",
    "        return 4\n",
    "    if(v == 3):\n",
    "        return 8\n",
    "    if(v == 4):\n",
    "        return 6\n",
    "    if(v == 5):\n",
    "        return 10\n",
    "    if(v == 6):\n",
    "        return 1\n",
    "    if(v == 7):\n",
    "        return 3\n",
    "    if(v == 8):\n",
    "        return 5\n",
    "    if(v == 9):\n",
    "        return 7\n",
    "    if(v == 10):\n",
    "        return 9\n",
    "    \n",
    "def custom_substitution(v,p):\n",
    "\n",
    "    for i in range(8):\n",
    "        v[i] = custom_substitution_number(v[i])\n",
    "    \n",
    "    return v\n",
    "\n",
    "\n",
    "def encryption_v2(u,k,p,round):\n",
    "\n",
    "    k_list = subkey_generator(k)\n",
    "\n",
    "    for i in range (round):\n",
    "        \n",
    "        #print(\"round : \",i)\n",
    "        v = subkey_sum(k_list[i],u,p)\n",
    "        #print(\"post subkey_sum\",v)\n",
    "        y = custom_substitution(v,p)\n",
    "        #print(\"post custom substitution\",y)\n",
    "        z = transposition(y)\n",
    "        #print(\"post transpo\",z)\n",
    "        if i == round-1:\n",
    "            x = subkey_sum(k_list[i+1],z,p)\n",
    "            break\n",
    "        u = linear(z, p)\n",
    "        #print(\"post linear\", u)\n",
    "        \n",
    "    return x\n"
   ]
  },
  {
   "cell_type": "code",
   "execution_count": 16,
   "metadata": {},
   "outputs": [
    {
     "name": "stdout",
     "output_type": "stream",
     "text": [
      "[9 8 0 7 6 2 7 9]\n"
     ]
    }
   ],
   "source": [
    "print(encryption(u,k,p,r,\n",
    "                 substitution=custom_substitution,\n",
    "                 transposition=transposition,\n",
    "                 subkey_sum=subkey_sum,\n",
    "                 linear=linear\n",
    "                 ))"
   ]
  },
  {
   "cell_type": "markdown",
   "metadata": {},
   "source": [
    "## Task 7\n",
    "implement the encryptor for a simplified AES-like cipher with the following parameters: $\\mathcal{K} = \\mathbb{F}^{\\ell_k}, \\ell_k = 4$\n",
    "\n",
    "ECC..."
   ]
  },
  {
   "cell_type": "code",
   "execution_count": 17,
   "metadata": {},
   "outputs": [],
   "source": [
    "def subkey_generator_v2(key):\n",
    "\n",
    "    k_1 = [key[0],key[1],key[2],key[3]]\n",
    "    k_2 = [key[0],key[1],key[3],key[2]]\n",
    "    k_3 = [key[1],key[2],key[3],key[0]]\n",
    "    k_4 = [key[0],key[3],key[1],key[2]]\n",
    "    k_5 = [key[2],key[3],key[0],key[1]]\n",
    "    k_6 = [key[1],key[3],key[0],key[2]]\n",
    "\n",
    "    return [k_1,k_2,k_3,k_4,k_5,k_6]\n",
    "\n",
    "def mod_inv(v, p):\n",
    "    \n",
    "    x =[]\n",
    "\n",
    "    for num in v:\n",
    "        if(num != 0):\n",
    "            x.append(2*pow(num, -1, p))\n",
    "        else:\n",
    "            x.append(0)\n",
    "\n",
    "\n",
    "    return np.array(x) # Calcola l'inverso di x modulo p\n",
    "\n",
    "def substitution(x):\n",
    "    x= x.tolist()\n",
    "    return mod_inv(x, p)\n",
    "    "
   ]
  },
  {
   "cell_type": "code",
   "execution_count": 18,
   "metadata": {},
   "outputs": [],
   "source": [
    "def encryption_v3(u,k,p,round):\n",
    "\n",
    "    k_list = subkey_generator_v2(k)\n",
    "\n",
    "    for i in range (round):\n",
    "        \n",
    "        #print(\"round : \",i)\n",
    "        v = subkey_sum(k_list[i],u,p)\n",
    "        #print(\"post subkey_sum\",v)\n",
    "        y = substitution(v)\n",
    "        #print(\"post custom substitution\",y)\n",
    "        z = transposition(y)\n",
    "        #print(\"post transpo\",z)\n",
    "        if i == round-1:\n",
    "            x = subkey_sum(k_list[i+1],z,p)\n",
    "            break\n",
    "        u = linear(z, p)\n",
    "        #print(\"post linear\", u)\n",
    "        \n",
    "    return x"
   ]
  },
  {
   "cell_type": "code",
   "execution_count": 19,
   "metadata": {},
   "outputs": [
    {
     "name": "stdout",
     "output_type": "stream",
     "text": [
      "[5 0 3 2 5 2 1 1]\n"
     ]
    }
   ],
   "source": [
    "k=np.array([1,0,0,0])\n",
    "\n",
    "p= 11\n",
    "\n",
    "print(encryption_v3(u,k,p,r))"
   ]
  }
 ],
 "metadata": {
  "kernelspec": {
   "display_name": "Python 3",
   "language": "python",
   "name": "python3"
  },
  "language_info": {
   "codemirror_mode": {
    "name": "ipython",
    "version": 3
   },
   "file_extension": ".py",
   "mimetype": "text/x-python",
   "name": "python",
   "nbconvert_exporter": "python",
   "pygments_lexer": "ipython3",
   "version": "3.13.2"
  }
 },
 "nbformat": 4,
 "nbformat_minor": 2
}
